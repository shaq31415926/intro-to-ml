{
 "cells": [
  {
   "cell_type": "markdown",
   "id": "3c957492-a509-45c8-bc42-2918a356d82c",
   "metadata": {},
   "source": [
    "## Predict Tinder Matches\n",
    "\n",
    "We are going to make a recommender algorithm that recommends profiles to people based on their similar interests so we will aim to predict the profiles to the user such that the user finds it most interesting out of all and tries to connect with them\n",
    "\n",
    "Reference: https://www.geeksforgeeks.org/predict-tinder-matches-with-machine-learning/"
   ]
  },
  {
   "cell_type": "code",
   "execution_count": 1,
   "id": "7f93ebb7-8ae2-488f-abd5-d00804faf28b",
   "metadata": {},
   "outputs": [],
   "source": [
    "import pandas as pd\n",
    "import matplotlib.pyplot as plt\n",
    "import seaborn as sns"
   ]
  },
  {
   "cell_type": "code",
   "execution_count": 2,
   "id": "e9be3ed3-9407-4f7b-a67f-f35454642279",
   "metadata": {},
   "outputs": [],
   "source": [
    "tinder_data = pd.read_csv(\"../data/tinder_data.csv\")"
   ]
  },
  {
   "cell_type": "code",
   "execution_count": 3,
   "id": "78788afb-5f48-4fe2-af37-974a7cce6c74",
   "metadata": {},
   "outputs": [
    {
     "data": {
      "text/plain": [
       "pandas.core.frame.DataFrame"
      ]
     },
     "execution_count": 3,
     "metadata": {},
     "output_type": "execute_result"
    }
   ],
   "source": [
    "type(tinder_data)"
   ]
  },
  {
   "cell_type": "code",
   "execution_count": 4,
   "id": "9c5e8a24-d72c-41cf-98c6-dd212bc44b3f",
   "metadata": {},
   "outputs": [
    {
     "data": {
      "text/html": [
       "<div>\n",
       "<style scoped>\n",
       "    .dataframe tbody tr th:only-of-type {\n",
       "        vertical-align: middle;\n",
       "    }\n",
       "\n",
       "    .dataframe tbody tr th {\n",
       "        vertical-align: top;\n",
       "    }\n",
       "\n",
       "    .dataframe thead th {\n",
       "        text-align: right;\n",
       "    }\n",
       "</style>\n",
       "<table border=\"1\" class=\"dataframe\">\n",
       "  <thead>\n",
       "    <tr style=\"text-align: right;\">\n",
       "      <th></th>\n",
       "      <th>user_id</th>\n",
       "      <th>username</th>\n",
       "      <th>age</th>\n",
       "      <th>status</th>\n",
       "      <th>sex</th>\n",
       "      <th>orientation</th>\n",
       "      <th>drinks</th>\n",
       "      <th>drugs</th>\n",
       "      <th>height</th>\n",
       "      <th>job</th>\n",
       "      <th>location</th>\n",
       "      <th>pets</th>\n",
       "      <th>smokes</th>\n",
       "      <th>language</th>\n",
       "      <th>new_languages</th>\n",
       "      <th>body_profile</th>\n",
       "      <th>education_level</th>\n",
       "      <th>dropped_out</th>\n",
       "      <th>bio</th>\n",
       "      <th>location_preference</th>\n",
       "    </tr>\n",
       "  </thead>\n",
       "  <tbody>\n",
       "    <tr>\n",
       "      <th>0</th>\n",
       "      <td>fffe3100</td>\n",
       "      <td>Edith Lopez</td>\n",
       "      <td>27</td>\n",
       "      <td>single</td>\n",
       "      <td>f</td>\n",
       "      <td>gay</td>\n",
       "      <td>socially</td>\n",
       "      <td>never</td>\n",
       "      <td>66.0</td>\n",
       "      <td>medicine / health</td>\n",
       "      <td>oakland, california</td>\n",
       "      <td>likes dogs and likes cats</td>\n",
       "      <td>no</td>\n",
       "      <td>english (fluently), spanish (poorly), sign lan...</td>\n",
       "      <td>interested</td>\n",
       "      <td>athletic</td>\n",
       "      <td>4.0</td>\n",
       "      <td>no</td>\n",
       "      <td>bottom line i love life! i work hard and i lov...</td>\n",
       "      <td>same state</td>\n",
       "    </tr>\n",
       "    <tr>\n",
       "      <th>1</th>\n",
       "      <td>fffe3200</td>\n",
       "      <td>Travis Young</td>\n",
       "      <td>26</td>\n",
       "      <td>single</td>\n",
       "      <td>m</td>\n",
       "      <td>gay</td>\n",
       "      <td>socially</td>\n",
       "      <td>never</td>\n",
       "      <td>68.0</td>\n",
       "      <td>other</td>\n",
       "      <td>pleasant hill, california</td>\n",
       "      <td>likes dogs</td>\n",
       "      <td>no</td>\n",
       "      <td>english (fluently), tagalog (okay), french (po...</td>\n",
       "      <td>interested</td>\n",
       "      <td>fit</td>\n",
       "      <td>3.0</td>\n",
       "      <td>no</td>\n",
       "      <td>i'm a straightforward, genuine, fun loving (i'...</td>\n",
       "      <td>anywhere</td>\n",
       "    </tr>\n",
       "    <tr>\n",
       "      <th>2</th>\n",
       "      <td>fffe3300</td>\n",
       "      <td>Agnes Smith</td>\n",
       "      <td>20</td>\n",
       "      <td>seeing someone</td>\n",
       "      <td>f</td>\n",
       "      <td>bisexual</td>\n",
       "      <td>socially</td>\n",
       "      <td>sometimes</td>\n",
       "      <td>69.0</td>\n",
       "      <td>other</td>\n",
       "      <td>oakland, california</td>\n",
       "      <td>has dogs and likes cats</td>\n",
       "      <td>sometimes</td>\n",
       "      <td>english (fluently), sign language (poorly), fr...</td>\n",
       "      <td>interested</td>\n",
       "      <td>fit</td>\n",
       "      <td>2.0</td>\n",
       "      <td>no</td>\n",
       "      <td>mmmmm yummy tacosss. yoga is where it's at. i ...</td>\n",
       "      <td>same city</td>\n",
       "    </tr>\n",
       "    <tr>\n",
       "      <th>3</th>\n",
       "      <td>fffe3400</td>\n",
       "      <td>Salvador Klaver</td>\n",
       "      <td>27</td>\n",
       "      <td>single</td>\n",
       "      <td>m</td>\n",
       "      <td>bisexual</td>\n",
       "      <td>socially</td>\n",
       "      <td>sometimes</td>\n",
       "      <td>68.0</td>\n",
       "      <td>computer / hardware / software</td>\n",
       "      <td>daly city, california</td>\n",
       "      <td>likes dogs and likes cats</td>\n",
       "      <td>no</td>\n",
       "      <td>english</td>\n",
       "      <td>not interested</td>\n",
       "      <td>average</td>\n",
       "      <td>3.0</td>\n",
       "      <td>no</td>\n",
       "      <td>i'm a stealth geek. that special mix of techni...</td>\n",
       "      <td>same city</td>\n",
       "    </tr>\n",
       "    <tr>\n",
       "      <th>4</th>\n",
       "      <td>fffe3500</td>\n",
       "      <td>Elana Sewell</td>\n",
       "      <td>22</td>\n",
       "      <td>single</td>\n",
       "      <td>f</td>\n",
       "      <td>bisexual</td>\n",
       "      <td>often</td>\n",
       "      <td>sometimes</td>\n",
       "      <td>68.0</td>\n",
       "      <td>other</td>\n",
       "      <td>oakland, california</td>\n",
       "      <td>likes dogs and likes cats</td>\n",
       "      <td>yes</td>\n",
       "      <td>english</td>\n",
       "      <td>not interested</td>\n",
       "      <td>average</td>\n",
       "      <td>2.0</td>\n",
       "      <td>yes</td>\n",
       "      <td>with the whisper of the wind i was weaved into...</td>\n",
       "      <td>same city</td>\n",
       "    </tr>\n",
       "  </tbody>\n",
       "</table>\n",
       "</div>"
      ],
      "text/plain": [
       "    user_id         username  age          status sex orientation    drinks  \\\n",
       "0  fffe3100      Edith Lopez   27          single   f         gay  socially   \n",
       "1  fffe3200     Travis Young   26          single   m         gay  socially   \n",
       "2  fffe3300      Agnes Smith   20  seeing someone   f    bisexual  socially   \n",
       "3  fffe3400  Salvador Klaver   27          single   m    bisexual  socially   \n",
       "4  fffe3500     Elana Sewell   22          single   f    bisexual     often   \n",
       "\n",
       "       drugs  height                             job  \\\n",
       "0      never    66.0               medicine / health   \n",
       "1      never    68.0                           other   \n",
       "2  sometimes    69.0                           other   \n",
       "3  sometimes    68.0  computer / hardware / software   \n",
       "4  sometimes    68.0                           other   \n",
       "\n",
       "                    location                       pets     smokes  \\\n",
       "0        oakland, california  likes dogs and likes cats         no   \n",
       "1  pleasant hill, california                 likes dogs         no   \n",
       "2        oakland, california    has dogs and likes cats  sometimes   \n",
       "3      daly city, california  likes dogs and likes cats         no   \n",
       "4        oakland, california  likes dogs and likes cats        yes   \n",
       "\n",
       "                                            language   new_languages  \\\n",
       "0  english (fluently), spanish (poorly), sign lan...      interested   \n",
       "1  english (fluently), tagalog (okay), french (po...      interested   \n",
       "2  english (fluently), sign language (poorly), fr...      interested   \n",
       "3                                            english  not interested   \n",
       "4                                            english  not interested   \n",
       "\n",
       "  body_profile  education_level dropped_out  \\\n",
       "0     athletic              4.0          no   \n",
       "1          fit              3.0          no   \n",
       "2          fit              2.0          no   \n",
       "3      average              3.0          no   \n",
       "4      average              2.0         yes   \n",
       "\n",
       "                                                 bio location_preference  \n",
       "0  bottom line i love life! i work hard and i lov...          same state  \n",
       "1  i'm a straightforward, genuine, fun loving (i'...            anywhere  \n",
       "2  mmmmm yummy tacosss. yoga is where it's at. i ...           same city  \n",
       "3  i'm a stealth geek. that special mix of techni...           same city  \n",
       "4  with the whisper of the wind i was weaved into...           same city  "
      ]
     },
     "execution_count": 4,
     "metadata": {},
     "output_type": "execute_result"
    }
   ],
   "source": [
    "tinder_data.head()"
   ]
  },
  {
   "cell_type": "code",
   "execution_count": 5,
   "id": "7a27a3a8-fdc7-4152-8906-9f101c2d9d06",
   "metadata": {},
   "outputs": [
    {
     "data": {
      "text/plain": [
       "(2001, 20)"
      ]
     },
     "execution_count": 5,
     "metadata": {},
     "output_type": "execute_result"
    }
   ],
   "source": [
    "tinder_data.shape"
   ]
  },
  {
   "cell_type": "code",
   "execution_count": 6,
   "id": "5686a19b-facf-43a2-8212-f41c8400b2d3",
   "metadata": {},
   "outputs": [
    {
     "name": "stdout",
     "output_type": "stream",
     "text": [
      "<class 'pandas.core.frame.DataFrame'>\n",
      "RangeIndex: 2001 entries, 0 to 2000\n",
      "Data columns (total 20 columns):\n",
      " #   Column               Non-Null Count  Dtype  \n",
      "---  ------               --------------  -----  \n",
      " 0   user_id              2001 non-null   object \n",
      " 1   username             2001 non-null   object \n",
      " 2   age                  2001 non-null   int64  \n",
      " 3   status               2001 non-null   object \n",
      " 4   sex                  2001 non-null   object \n",
      " 5   orientation          2001 non-null   object \n",
      " 6   drinks               2001 non-null   object \n",
      " 7   drugs                2001 non-null   object \n",
      " 8   height               2001 non-null   float64\n",
      " 9   job                  2001 non-null   object \n",
      " 10  location             2001 non-null   object \n",
      " 11  pets                 2001 non-null   object \n",
      " 12  smokes               2001 non-null   object \n",
      " 13  language             2001 non-null   object \n",
      " 14  new_languages        2001 non-null   object \n",
      " 15  body_profile         2001 non-null   object \n",
      " 16  education_level      2001 non-null   float64\n",
      " 17  dropped_out          2001 non-null   object \n",
      " 18  bio                  2001 non-null   object \n",
      " 19  location_preference  2001 non-null   object \n",
      "dtypes: float64(2), int64(1), object(17)\n",
      "memory usage: 312.8+ KB\n"
     ]
    }
   ],
   "source": [
    "tinder_data.info()"
   ]
  },
  {
   "cell_type": "code",
   "execution_count": 7,
   "id": "e0a9ed0f-ebce-4958-b018-3b8015dad961",
   "metadata": {},
   "outputs": [
    {
     "data": {
      "image/png": "[encoded data removed]",
      "text/plain": [
       "<Figure size 640x480 with 1 Axes>"
      ]
     },
     "metadata": {},
     "output_type": "display_data"
    }
   ],
   "source": [
    "# get to the know the data\n",
    "# distribution of age\n",
    "\n",
    "tinder_data.age.hist()\n",
    "plt.title(\"Distribution of age\");\n"
   ]
  },
  {
   "cell_type": "code",
   "execution_count": 8,
   "id": "9700142f-2a08-4856-8c16-7270e179af35",
   "metadata": {},
   "outputs": [
    {
     "data": {
      "image/png": "[encoded data removed]",
      "text/plain": [
       "<Figure size 640x480 with 1 Axes>"
      ]
     },
     "metadata": {},
     "output_type": "display_data"
    }
   ],
   "source": [
    "sns.boxplot(x=tinder_data.age);\n",
    "\n",
    "# ages above 60 are considered outliers - we may consider filtering based on age"
   ]
  },
  {
   "cell_type": "code",
   "execution_count": 9,
   "id": "22c5b901-d9bd-4f1b-97ea-c66ac4da0c7b",
   "metadata": {},
   "outputs": [
    {
     "data": {
      "text/plain": [
       "status\n",
       "single            1867\n",
       "available           66\n",
       "seeing someone      54\n",
       "married             14\n",
       "Name: count, dtype: int64"
      ]
     },
     "execution_count": 9,
     "metadata": {},
     "output_type": "execute_result"
    }
   ],
   "source": [
    "# distribution of status\n",
    "\n",
    "tinder_data.status.value_counts()"
   ]
  },
  {
   "cell_type": "code",
   "execution_count": 10,
   "id": "491674b1-a4fd-4376-8308-95291aa5528c",
   "metadata": {},
   "outputs": [
    {
     "data": {
      "text/plain": [
       "status\n",
       "single            0.933033\n",
       "available         0.032984\n",
       "seeing someone    0.026987\n",
       "married           0.006997\n",
       "Name: proportion, dtype: float64"
      ]
     },
     "execution_count": 10,
     "metadata": {},
     "output_type": "execute_result"
    }
   ],
   "source": [
    "\n",
    "tinder_data.status.value_counts(normalize=True)"
   ]
  },
  {
   "cell_type": "code",
   "execution_count": 11,
   "id": "2d32181a-5f66-4775-aeea-3c4a05aa6d88",
   "metadata": {},
   "outputs": [
    {
     "data": {
      "image/png": "[encoded data removed]",
      "text/plain": [
       "<Figure size 640x480 with 1 Axes>"
      ]
     },
     "metadata": {},
     "output_type": "display_data"
    }
   ],
   "source": [
    "tinder_data.status.value_counts().plot(kind='bar');"
   ]
  },
  {
   "cell_type": "code",
   "execution_count": null,
   "id": "88ed3c37-d966-4e6f-9528-174d61e5d509",
   "metadata": {},
   "outputs": [],
   "source": []
  }
 ],
 "metadata": {
  "kernelspec": {
   "display_name": "Python 3 (ipykernel)",
   "language": "python",
   "name": "python3"
  },
  "language_info": {
   "codemirror_mode": {
    "name": "ipython",
    "version": 3
   },
   "file_extension": ".py",
   "mimetype": "text/x-python",
   "name": "python",
   "nbconvert_exporter": "python",
   "pygments_lexer": "ipython3",
   "version": "3.12.3"
  }
 },
 "nbformat": 4,
 "nbformat_minor": 5
}
