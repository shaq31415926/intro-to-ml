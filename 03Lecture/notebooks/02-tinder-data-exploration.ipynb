{
 "cells": [
  {
   "cell_type": "markdown",
   "id": "3c957492-a509-45c8-bc42-2918a356d82c",
   "metadata": {},
   "source": [
    "## Predict Tinder Matches\n",
    "\n",
    "We are going to make a recommender algorithm that recommends profiles to people based on their similar interests so we will aim to predict the profiles to the user such that the user finds it most interesting out of all and tries to connect with them\n",
    "\n",
    "Reference: https://www.geeksforgeeks.org/predict-tinder-matches-with-machine-learning/"
   ]
  },
  {
   "cell_type": "code",
   "execution_count": 1,
   "id": "7f93ebb7-8ae2-488f-abd5-d00804faf28b",
   "metadata": {},
   "outputs": [],
   "source": [
    "import pandas as pd\n",
    "import matplotlib.pyplot as plt\n",
    "import seaborn as sns"
   ]
  },
  {
   "cell_type": "code",
   "execution_count": 2,
   "id": "e9be3ed3-9407-4f7b-a67f-f35454642279",
   "metadata": {},
   "outputs": [],
   "source": [
    "tinder_data = pd.read_csv(\"../data/tinder_data.csv\")"
   ]
  },
  {
   "cell_type": "code",
   "execution_count": 3,
   "id": "78788afb-5f48-4fe2-af37-974a7cce6c74",
   "metadata": {},
   "outputs": [
    {
     "data": {
      "text/plain": [
       "pandas.core.frame.DataFrame"
      ]
     },
     "execution_count": 3,
     "metadata": {},
     "output_type": "execute_result"
    }
   ],
   "source": [
    "type(tinder_data)"
   ]
  },
  {
   "cell_type": "code",
   "execution_count": 4,
   "id": "9c5e8a24-d72c-41cf-98c6-dd212bc44b3f",
   "metadata": {},
   "outputs": [
    {
     "data": {
      "text/html": [
       "<div>\n",
       "<style scoped>\n",
       "    .dataframe tbody tr th:only-of-type {\n",
       "        vertical-align: middle;\n",
       "    }\n",
       "\n",
       "    .dataframe tbody tr th {\n",
       "        vertical-align: top;\n",
       "    }\n",
       "\n",
       "    .dataframe thead th {\n",
       "        text-align: right;\n",
       "    }\n",
       "</style>\n",
       "<table border=\"1\" class=\"dataframe\">\n",
       "  <thead>\n",
       "    <tr style=\"text-align: right;\">\n",
       "      <th></th>\n",
       "      <th>user_id</th>\n",
       "      <th>username</th>\n",
       "      <th>age</th>\n",
       "      <th>status</th>\n",
       "      <th>sex</th>\n",
       "      <th>orientation</th>\n",
       "      <th>drinks</th>\n",
       "      <th>drugs</th>\n",
       "      <th>height</th>\n",
       "      <th>job</th>\n",
       "      <th>location</th>\n",
       "      <th>pets</th>\n",
       "      <th>smokes</th>\n",
       "      <th>language</th>\n",
       "      <th>new_languages</th>\n",
       "      <th>body_profile</th>\n",
       "      <th>education_level</th>\n",
       "      <th>dropped_out</th>\n",
       "      <th>bio</th>\n",
       "      <th>location_preference</th>\n",
       "    </tr>\n",
       "  </thead>\n",
       "  <tbody>\n",
       "    <tr>\n",
       "      <th>0</th>\n",
       "      <td>fffe3100</td>\n",
       "      <td>Edith Lopez</td>\n",
       "      <td>27</td>\n",
       "      <td>single</td>\n",
       "      <td>f</td>\n",
       "      <td>gay</td>\n",
       "      <td>socially</td>\n",
       "      <td>never</td>\n",
       "      <td>66.0</td>\n",
       "      <td>medicine / health</td>\n",
       "      <td>oakland, california</td>\n",
       "      <td>likes dogs and likes cats</td>\n",
       "      <td>no</td>\n",
       "      <td>english (fluently), spanish (poorly), sign lan...</td>\n",
       "      <td>interested</td>\n",
       "      <td>athletic</td>\n",
       "      <td>4.0</td>\n",
       "      <td>no</td>\n",
       "      <td>bottom line i love life! i work hard and i lov...</td>\n",
       "      <td>same state</td>\n",
       "    </tr>\n",
       "    <tr>\n",
       "      <th>1</th>\n",
       "      <td>fffe3200</td>\n",
       "      <td>Travis Young</td>\n",
       "      <td>26</td>\n",
       "      <td>single</td>\n",
       "      <td>m</td>\n",
       "      <td>gay</td>\n",
       "      <td>socially</td>\n",
       "      <td>never</td>\n",
       "      <td>68.0</td>\n",
       "      <td>other</td>\n",
       "      <td>pleasant hill, california</td>\n",
       "      <td>likes dogs</td>\n",
       "      <td>no</td>\n",
       "      <td>english (fluently), tagalog (okay), french (po...</td>\n",
       "      <td>interested</td>\n",
       "      <td>fit</td>\n",
       "      <td>3.0</td>\n",
       "      <td>no</td>\n",
       "      <td>i'm a straightforward, genuine, fun loving (i'...</td>\n",
       "      <td>anywhere</td>\n",
       "    </tr>\n",
       "    <tr>\n",
       "      <th>2</th>\n",
       "      <td>fffe3300</td>\n",
       "      <td>Agnes Smith</td>\n",
       "      <td>20</td>\n",
       "      <td>seeing someone</td>\n",
       "      <td>f</td>\n",
       "      <td>bisexual</td>\n",
       "      <td>socially</td>\n",
       "      <td>sometimes</td>\n",
       "      <td>69.0</td>\n",
       "      <td>other</td>\n",
       "      <td>oakland, california</td>\n",
       "      <td>has dogs and likes cats</td>\n",
       "      <td>sometimes</td>\n",
       "      <td>english (fluently), sign language (poorly), fr...</td>\n",
       "      <td>interested</td>\n",
       "      <td>fit</td>\n",
       "      <td>2.0</td>\n",
       "      <td>no</td>\n",
       "      <td>mmmmm yummy tacosss. yoga is where it's at. i ...</td>\n",
       "      <td>same city</td>\n",
       "    </tr>\n",
       "    <tr>\n",
       "      <th>3</th>\n",
       "      <td>fffe3400</td>\n",
       "      <td>Salvador Klaver</td>\n",
       "      <td>27</td>\n",
       "      <td>single</td>\n",
       "      <td>m</td>\n",
       "      <td>bisexual</td>\n",
       "      <td>socially</td>\n",
       "      <td>sometimes</td>\n",
       "      <td>68.0</td>\n",
       "      <td>computer / hardware / software</td>\n",
       "      <td>daly city, california</td>\n",
       "      <td>likes dogs and likes cats</td>\n",
       "      <td>no</td>\n",
       "      <td>english</td>\n",
       "      <td>not interested</td>\n",
       "      <td>average</td>\n",
       "      <td>3.0</td>\n",
       "      <td>no</td>\n",
       "      <td>i'm a stealth geek. that special mix of techni...</td>\n",
       "      <td>same city</td>\n",
       "    </tr>\n",
       "    <tr>\n",
       "      <th>4</th>\n",
       "      <td>fffe3500</td>\n",
       "      <td>Elana Sewell</td>\n",
       "      <td>22</td>\n",
       "      <td>single</td>\n",
       "      <td>f</td>\n",
       "      <td>bisexual</td>\n",
       "      <td>often</td>\n",
       "      <td>sometimes</td>\n",
       "      <td>68.0</td>\n",
       "      <td>other</td>\n",
       "      <td>oakland, california</td>\n",
       "      <td>likes dogs and likes cats</td>\n",
       "      <td>yes</td>\n",
       "      <td>english</td>\n",
       "      <td>not interested</td>\n",
       "      <td>average</td>\n",
       "      <td>2.0</td>\n",
       "      <td>yes</td>\n",
       "      <td>with the whisper of the wind i was weaved into...</td>\n",
       "      <td>same city</td>\n",
       "    </tr>\n",
       "  </tbody>\n",
       "</table>\n",
       "</div>"
      ],
      "text/plain": [
       "    user_id         username  age          status sex orientation    drinks  \\\n",
       "0  fffe3100      Edith Lopez   27          single   f         gay  socially   \n",
       "1  fffe3200     Travis Young   26          single   m         gay  socially   \n",
       "2  fffe3300      Agnes Smith   20  seeing someone   f    bisexual  socially   \n",
       "3  fffe3400  Salvador Klaver   27          single   m    bisexual  socially   \n",
       "4  fffe3500     Elana Sewell   22          single   f    bisexual     often   \n",
       "\n",
       "       drugs  height                             job  \\\n",
       "0      never    66.0               medicine / health   \n",
       "1      never    68.0                           other   \n",
       "2  sometimes    69.0                           other   \n",
       "3  sometimes    68.0  computer / hardware / software   \n",
       "4  sometimes    68.0                           other   \n",
       "\n",
       "                    location                       pets     smokes  \\\n",
       "0        oakland, california  likes dogs and likes cats         no   \n",
       "1  pleasant hill, california                 likes dogs         no   \n",
       "2        oakland, california    has dogs and likes cats  sometimes   \n",
       "3      daly city, california  likes dogs and likes cats         no   \n",
       "4        oakland, california  likes dogs and likes cats        yes   \n",
       "\n",
       "                                            language   new_languages  \\\n",
       "0  english (fluently), spanish (poorly), sign lan...      interested   \n",
       "1  english (fluently), tagalog (okay), french (po...      interested   \n",
       "2  english (fluently), sign language (poorly), fr...      interested   \n",
       "3                                            english  not interested   \n",
       "4                                            english  not interested   \n",
       "\n",
       "  body_profile  education_level dropped_out  \\\n",
       "0     athletic              4.0          no   \n",
       "1          fit              3.0          no   \n",
       "2          fit              2.0          no   \n",
       "3      average              3.0          no   \n",
       "4      average              2.0         yes   \n",
       "\n",
       "                                                 bio location_preference  \n",
       "0  bottom line i love life! i work hard and i lov...          same state  \n",
       "1  i'm a straightforward, genuine, fun loving (i'...            anywhere  \n",
       "2  mmmmm yummy tacosss. yoga is where it's at. i ...           same city  \n",
       "3  i'm a stealth geek. that special mix of techni...           same city  \n",
       "4  with the whisper of the wind i was weaved into...           same city  "
      ]
     },
     "execution_count": 4,
     "metadata": {},
     "output_type": "execute_result"
    }
   ],
   "source": [
    "tinder_data.head()"
   ]
  },
  {
   "cell_type": "code",
   "execution_count": 5,
   "id": "7a27a3a8-fdc7-4152-8906-9f101c2d9d06",
   "metadata": {},
   "outputs": [
    {
     "data": {
      "text/plain": [
       "(2001, 20)"
      ]
     },
     "execution_count": 5,
     "metadata": {},
     "output_type": "execute_result"
    }
   ],
   "source": [
    "tinder_data.shape"
   ]
  },
  {
   "cell_type": "code",
   "execution_count": 6,
   "id": "5686a19b-facf-43a2-8212-f41c8400b2d3",
   "metadata": {},
   "outputs": [
    {
     "name": "stdout",
     "output_type": "stream",
     "text": [
      "<class 'pandas.core.frame.DataFrame'>\n",
      "RangeIndex: 2001 entries, 0 to 2000\n",
      "Data columns (total 20 columns):\n",
      " #   Column               Non-Null Count  Dtype  \n",
      "---  ------               --------------  -----  \n",
      " 0   user_id              2001 non-null   object \n",
      " 1   username             2001 non-null   object \n",
      " 2   age                  2001 non-null   int64  \n",
      " 3   status               2001 non-null   object \n",
      " 4   sex                  2001 non-null   object \n",
      " 5   orientation          2001 non-null   object \n",
      " 6   drinks               2001 non-null   object \n",
      " 7   drugs                2001 non-null   object \n",
      " 8   height               2001 non-null   float64\n",
      " 9   job                  2001 non-null   object \n",
      " 10  location             2001 non-null   object \n",
      " 11  pets                 2001 non-null   object \n",
      " 12  smokes               2001 non-null   object \n",
      " 13  language             2001 non-null   object \n",
      " 14  new_languages        2001 non-null   object \n",
      " 15  body_profile         2001 non-null   object \n",
      " 16  education_level      2001 non-null   float64\n",
      " 17  dropped_out          2001 non-null   object \n",
      " 18  bio                  2001 non-null   object \n",
      " 19  location_preference  2001 non-null   object \n",
      "dtypes: float64(2), int64(1), object(17)\n",
      "memory usage: 312.8+ KB\n"
     ]
    }
   ],
   "source": [
    "tinder_data.info()"
   ]
  },
  {
   "cell_type": "code",
   "execution_count": 7,
   "id": "e0a9ed0f-ebce-4958-b018-3b8015dad961",
   "metadata": {},
   "outputs": [
    {
     "data": {
      "image/png": "[encoded data removed]",
      "text/plain": [
       "<Figure size 640x480 with 1 Axes>"
      ]
     },
     "metadata": {},
     "output_type": "display_data"
    }
   ],
   "source": [
    "# get to the know the data\n",
    "# distribution of age\n",
    "\n",
    "tinder_data.age.hist()\n",
    "plt.title(\"Distribution of age\");\n"
   ]
  },
  {
   "cell_type": "code",
   "execution_count": 8,
   "id": "9700142f-2a08-4856-8c16-7270e179af35",
   "metadata": {},
   "outputs": [
    {
     "data": {
      "image/png": "[encoded data removed]",
      "text/plain": [
       "<Figure size 640x480 with 1 Axes>"
      ]
     },
     "metadata": {},
     "output_type": "display_data"
    }
   ],
   "source": [
    "sns.boxplot(x=tinder_data.age);\n",
    "\n",
    "# ages above 60 are considered outliers - we may consider filtering based on age"
   ]
  },
  {
   "cell_type": "code",
   "execution_count": 9,
   "id": "22c5b901-d9bd-4f1b-97ea-c66ac4da0c7b",
   "metadata": {},
   "outputs": [
    {
     "data": {
      "text/plain": [
       "status\n",
       "single            1867\n",
       "available           66\n",
       "seeing someone      54\n",
       "married             14\n",
       "Name: count, dtype: int64"
      ]
     },
     "execution_count": 9,
     "metadata": {},
     "output_type": "execute_result"
    }
   ],
   "source": [
    "# distribution of status\n",
    "\n",
    "tinder_data.status.value_counts()"
   ]
  },
  {
   "cell_type": "code",
   "execution_count": 10,
   "id": "491674b1-a4fd-4376-8308-95291aa5528c",
   "metadata": {},
   "outputs": [
    {
     "data": {
      "text/plain": [
       "status\n",
       "single            0.933033\n",
       "available         0.032984\n",
       "seeing someone    0.026987\n",
       "married           0.006997\n",
       "Name: proportion, dtype: float64"
      ]
     },
     "execution_count": 10,
     "metadata": {},
     "output_type": "execute_result"
    }
   ],
   "source": [
    "\n",
    "tinder_data.status.value_counts(normalize=True)"
   ]
  },
  {
   "cell_type": "code",
   "execution_count": 11,
   "id": "2d32181a-5f66-4775-aeea-3c4a05aa6d88",
   "metadata": {},
   "outputs": [
    {
     "data": {
      "image/png": "[encoded data removed]",
      "text/plain": [
       "<Figure size 640x480 with 1 Axes>"
      ]
     },
     "metadata": {},
     "output_type": "display_data"
    }
   ],
   "source": [
    "tinder_data.status.value_counts().plot(kind='bar');"
   ]
  },
  {
   "cell_type": "code",
   "execution_count": 12,
   "id": "7b8891ba-afc1-42b3-9aaa-d91419f42a86",
   "metadata": {},
   "outputs": [
    {
     "data": {
      "text/plain": [
       "\"my self-summary..well i'm not very good at this, so lets give it a try..i can be really shy but outgoing once i warm up to the person or situation. would say that life is good..it has its ups and downs but that's what makes life interesting. i love to have fun but also love just relaxing..i'm a little clumsy but i always put all of it. i enjoy listening to all sorts of music and watching movies...to be continued\""
      ]
     },
     "execution_count": 12,
     "metadata": {},
     "output_type": "execute_result"
    }
   ],
   "source": [
    "# the bio for the 6th profile\n",
    "\n",
    "tinder_data.bio[5]"
   ]
  },
  {
   "cell_type": "code",
   "execution_count": 13,
   "id": "a5e1b0e9-f2fc-4c59-899d-0d53b2b1bc07",
   "metadata": {},
   "outputs": [
    {
     "data": {
      "text/plain": [
       "\"bottom line i love life! i work hard and i love hard! i'm down to earth... drama free and plan to keep it that way... if you want to know more about me just ask! i'm a woman with loves other women!. sometimes you feel like a nut sometimes you don't... i have a femme side and a butch side. i love trying new things. i spend my day helping people so i can check that off the list. i'm very out going and i love making people laugh! i'm open to meeting new people and dating. at this point i'm taking care of my heart and not rushing anything. i value communication and being open-minded.\""
      ]
     },
     "execution_count": 13,
     "metadata": {},
     "output_type": "execute_result"
    }
   ],
   "source": [
    "# the bio for the 1st profile\n",
    "\n",
    "tinder_data.bio[0]"
   ]
  },
  {
   "cell_type": "code",
   "execution_count": 14,
   "id": "88ed3c37-d966-4e6f-9528-174d61e5d509",
   "metadata": {},
   "outputs": [
    {
     "data": {
      "image/png": "[encoded data removed]",
      "text/plain": [
       "<Figure size 2000x1000 with 1 Axes>"
      ]
     },
     "metadata": {},
     "output_type": "display_data"
    }
   ],
   "source": [
    "# view the most appearing words\n",
    "\n",
    "import re\n",
    "from wordcloud import WordCloud\n",
    "\n",
    "# Remove punctuation\n",
    "tinder_data['bio_proc'] = \\\n",
    "tinder_data['bio'].map(lambda x: re.sub('[,.!?]', '', x))\n",
    "\n",
    "# Convert all the words to lowercase\n",
    "tinder_data['bio_proc'] = \\\n",
    "tinder_data['bio_proc'].map(lambda x: x.lower())\n",
    "\n",
    "\n",
    "# Join the different processed bios together.\n",
    "long_string = ','.join(list(tinder_data['bio_proc'].values))\n",
    "# Create a WordCloud object\n",
    "wordcloud = WordCloud(background_color=\"white\", max_words=5000, contour_width=3, \n",
    "contour_color='steelblue')# Generate a word cloud\n",
    "wordcloud.generate(long_string)# Visualize the word cloud\n",
    "plt.figure( figsize=(20,10) )\n",
    "plt.imshow(wordcloud)\n",
    "plt.show();"
   ]
  },
  {
   "cell_type": "code",
   "execution_count": 15,
   "id": "ee3f2677-7f4a-45b7-9597-2f766d6127f1",
   "metadata": {},
   "outputs": [
    {
     "data": {
      "text/plain": [
       "user_id                0\n",
       "username               0\n",
       "age                    0\n",
       "status                 0\n",
       "sex                    0\n",
       "orientation            0\n",
       "drinks                 0\n",
       "drugs                  0\n",
       "height                 0\n",
       "job                    0\n",
       "location               0\n",
       "pets                   0\n",
       "smokes                 0\n",
       "language               0\n",
       "new_languages          0\n",
       "body_profile           0\n",
       "education_level        0\n",
       "dropped_out            0\n",
       "bio                    0\n",
       "location_preference    0\n",
       "bio_proc               0\n",
       "dtype: int64"
      ]
     },
     "execution_count": 15,
     "metadata": {},
     "output_type": "execute_result"
    }
   ],
   "source": [
    "# check for missing data\n",
    "\n",
    "tinder_data.isnull().sum()"
   ]
  },
  {
   "cell_type": "code",
   "execution_count": 16,
   "id": "d246a79a-f1d8-4e61-8781-15a8a147619e",
   "metadata": {},
   "outputs": [
    {
     "data": {
      "text/plain": [
       "0"
      ]
     },
     "execution_count": 16,
     "metadata": {},
     "output_type": "execute_result"
    }
   ],
   "source": [
    "# check for duplicate data\n",
    "\n",
    "tinder_data.duplicated().sum()"
   ]
  },
  {
   "cell_type": "code",
   "execution_count": 17,
   "id": "5013d759-4ee0-4e5d-871a-82292aee016b",
   "metadata": {},
   "outputs": [
    {
     "data": {
      "text/plain": [
       "orientation\n",
       "straight    0.867566\n",
       "gay         0.076462\n",
       "bisexual    0.055972\n",
       "Name: proportion, dtype: float64"
      ]
     },
     "execution_count": 17,
     "metadata": {},
     "output_type": "execute_result"
    }
   ],
   "source": [
    "tinder_data.orientation.value_counts(normalize=True)"
   ]
  },
  {
   "cell_type": "code",
   "execution_count": 18,
   "id": "fedfdeec-3b86-4ff5-b7ec-3f6bb7af7bac",
   "metadata": {},
   "outputs": [
    {
     "data": {
      "image/png": "[encoded data removed]",
      "text/plain": [
       "<Figure size 640x480 with 1 Axes>"
      ]
     },
     "metadata": {},
     "output_type": "display_data"
    }
   ],
   "source": [
    "sns.boxplot(x=tinder_data.age);"
   ]
  },
  {
   "cell_type": "code",
   "execution_count": 52,
   "id": "5b8054dd-35f0-4664-a52c-8da29c91953c",
   "metadata": {},
   "outputs": [],
   "source": [
    "# Start by creating groups based on an age criteria and orientation\n",
    "\n",
    "tinder_data_reduced = tinder_data[tinder_data.orientation == \"straight\"]"
   ]
  },
  {
   "cell_type": "code",
   "execution_count": 53,
   "id": "3f7cc186-5dc6-40d8-9466-83d8de1e2581",
   "metadata": {},
   "outputs": [
    {
     "name": "stdout",
     "output_type": "stream",
     "text": [
      "(2001, 21)\n",
      "(1736, 21)\n"
     ]
    }
   ],
   "source": [
    "print(tinder_data.shape)\n",
    "print(tinder_data_reduced.shape)"
   ]
  },
  {
   "cell_type": "code",
   "execution_count": 54,
   "id": "087d8e06-a884-48fa-aa78-7ac9885803e3",
   "metadata": {},
   "outputs": [],
   "source": [
    "# cap profiles who are over 40\n",
    "\n",
    "tinder_data_reduced = tinder_data_reduced[tinder_data_reduced.age <= 40]"
   ]
  },
  {
   "cell_type": "code",
   "execution_count": 55,
   "id": "a4b752d9-d4d6-4e43-a303-550867ea5ef1",
   "metadata": {},
   "outputs": [
    {
     "name": "stdout",
     "output_type": "stream",
     "text": [
      "(1361, 21)\n"
     ]
    }
   ],
   "source": [
    "print(tinder_data_reduced.shape)"
   ]
  },
  {
   "cell_type": "code",
   "execution_count": 56,
   "id": "7970e832-f386-4657-9f0a-5769f2e1bfeb",
   "metadata": {},
   "outputs": [
    {
     "data": {
      "text/plain": [
       "orientation\n",
       "straight    1361\n",
       "Name: count, dtype: int64"
      ]
     },
     "execution_count": 56,
     "metadata": {},
     "output_type": "execute_result"
    }
   ],
   "source": [
    "tinder_data_reduced.orientation.value_counts()"
   ]
  },
  {
   "cell_type": "code",
   "execution_count": 57,
   "id": "2c48cada-b91f-4502-841c-a220183144ba",
   "metadata": {},
   "outputs": [
    {
     "data": {
      "text/plain": [
       "count    1361.000000\n",
       "mean       28.678913\n",
       "std         5.272200\n",
       "min        18.000000\n",
       "25%        25.000000\n",
       "50%        28.000000\n",
       "75%        32.000000\n",
       "max        40.000000\n",
       "Name: age, dtype: float64"
      ]
     },
     "execution_count": 57,
     "metadata": {},
     "output_type": "execute_result"
    }
   ],
   "source": [
    "tinder_data_reduced.age.describe()"
   ]
  },
  {
   "cell_type": "code",
   "execution_count": 58,
   "id": "ef0765e2-6578-46b2-a0fc-e8577f5f5710",
   "metadata": {},
   "outputs": [
    {
     "data": {
      "image/png": "[encoded data removed]",
      "text/plain": [
       "<Figure size 640x480 with 1 Axes>"
      ]
     },
     "metadata": {},
     "output_type": "display_data"
    }
   ],
   "source": [
    "sns.boxplot(x=tinder_data_reduced.age);"
   ]
  },
  {
   "cell_type": "code",
   "execution_count": 59,
   "id": "8f3e3ea6-db77-4627-8b4c-cfdf64b241e2",
   "metadata": {},
   "outputs": [
    {
     "data": {
      "text/plain": [
       "['user_id',\n",
       " 'username',\n",
       " 'status',\n",
       " 'sex',\n",
       " 'orientation',\n",
       " 'drinks',\n",
       " 'drugs',\n",
       " 'job',\n",
       " 'location',\n",
       " 'pets',\n",
       " 'smokes',\n",
       " 'language',\n",
       " 'new_languages',\n",
       " 'body_profile',\n",
       " 'dropped_out',\n",
       " 'bio',\n",
       " 'location_preference',\n",
       " 'bio_proc']"
      ]
     },
     "execution_count": 59,
     "metadata": {},
     "output_type": "execute_result"
    }
   ],
   "source": [
    "list(tinder_data_reduced.select_dtypes(\"object\"))"
   ]
  },
  {
   "cell_type": "code",
   "execution_count": 60,
   "id": "480d2604-c08a-491e-a14b-1dc474a74bb3",
   "metadata": {},
   "outputs": [
    {
     "data": {
      "text/html": [
       "<div>\n",
       "<style scoped>\n",
       "    .dataframe tbody tr th:only-of-type {\n",
       "        vertical-align: middle;\n",
       "    }\n",
       "\n",
       "    .dataframe tbody tr th {\n",
       "        vertical-align: top;\n",
       "    }\n",
       "\n",
       "    .dataframe thead th {\n",
       "        text-align: right;\n",
       "    }\n",
       "</style>\n",
       "<table border=\"1\" class=\"dataframe\">\n",
       "  <thead>\n",
       "    <tr style=\"text-align: right;\">\n",
       "      <th></th>\n",
       "      <th>username</th>\n",
       "      <th>age</th>\n",
       "      <th>status</th>\n",
       "      <th>sex</th>\n",
       "      <th>orientation</th>\n",
       "      <th>drinks</th>\n",
       "      <th>drugs</th>\n",
       "      <th>height</th>\n",
       "      <th>job</th>\n",
       "      <th>location</th>\n",
       "      <th>pets</th>\n",
       "      <th>smokes</th>\n",
       "      <th>language</th>\n",
       "      <th>new_languages</th>\n",
       "      <th>body_profile</th>\n",
       "      <th>education_level</th>\n",
       "      <th>dropped_out</th>\n",
       "      <th>bio</th>\n",
       "      <th>location_preference</th>\n",
       "      <th>bio_proc</th>\n",
       "    </tr>\n",
       "    <tr>\n",
       "      <th>user_id</th>\n",
       "      <th></th>\n",
       "      <th></th>\n",
       "      <th></th>\n",
       "      <th></th>\n",
       "      <th></th>\n",
       "      <th></th>\n",
       "      <th></th>\n",
       "      <th></th>\n",
       "      <th></th>\n",
       "      <th></th>\n",
       "      <th></th>\n",
       "      <th></th>\n",
       "      <th></th>\n",
       "      <th></th>\n",
       "      <th></th>\n",
       "      <th></th>\n",
       "      <th></th>\n",
       "      <th></th>\n",
       "      <th></th>\n",
       "      <th></th>\n",
       "    </tr>\n",
       "  </thead>\n",
       "  <tbody>\n",
       "    <tr>\n",
       "      <th>fffe31003000</th>\n",
       "      <td>Eric Goldberger</td>\n",
       "      <td>28</td>\n",
       "      <td>single</td>\n",
       "      <td>m</td>\n",
       "      <td>straight</td>\n",
       "      <td>very often</td>\n",
       "      <td>sometimes</td>\n",
       "      <td>62.0</td>\n",
       "      <td>other</td>\n",
       "      <td>san francisco, california</td>\n",
       "      <td>dislikes dogs and dislikes cats</td>\n",
       "      <td>when drinking</td>\n",
       "      <td>english, french, german, chinese, sign language</td>\n",
       "      <td>not interested</td>\n",
       "      <td>used up</td>\n",
       "      <td>4.0</td>\n",
       "      <td>no</td>\n",
       "      <td>i work and i play. hard. all day. everyday. i ...</td>\n",
       "      <td>same state</td>\n",
       "      <td>i work and i play hard all day everyday i am a...</td>\n",
       "    </tr>\n",
       "    <tr>\n",
       "      <th>fffe31003200</th>\n",
       "      <td>Lucile Trexler</td>\n",
       "      <td>24</td>\n",
       "      <td>single</td>\n",
       "      <td>f</td>\n",
       "      <td>straight</td>\n",
       "      <td>socially</td>\n",
       "      <td>never</td>\n",
       "      <td>65.0</td>\n",
       "      <td>medicine / health</td>\n",
       "      <td>san francisco, california</td>\n",
       "      <td>likes dogs and likes cats</td>\n",
       "      <td>no</td>\n",
       "      <td>english (fluently), spanish (okay), french (po...</td>\n",
       "      <td>interested</td>\n",
       "      <td>average</td>\n",
       "      <td>3.0</td>\n",
       "      <td>no</td>\n",
       "      <td>so...there is much to say... for now, i'm a st...</td>\n",
       "      <td>anywhere</td>\n",
       "      <td>sothere is much to say for now i'm a student w...</td>\n",
       "    </tr>\n",
       "    <tr>\n",
       "      <th>fffe31003300</th>\n",
       "      <td>Earl Eells</td>\n",
       "      <td>29</td>\n",
       "      <td>single</td>\n",
       "      <td>m</td>\n",
       "      <td>straight</td>\n",
       "      <td>socially</td>\n",
       "      <td>never</td>\n",
       "      <td>73.0</td>\n",
       "      <td>education / academia</td>\n",
       "      <td>san francisco, california</td>\n",
       "      <td>likes dogs and dislikes cats</td>\n",
       "      <td>no</td>\n",
       "      <td>english</td>\n",
       "      <td>not interested</td>\n",
       "      <td>average</td>\n",
       "      <td>3.0</td>\n",
       "      <td>no</td>\n",
       "      <td>i moved to san francisco two years ago after l...</td>\n",
       "      <td>same city</td>\n",
       "      <td>i moved to san francisco two years ago after l...</td>\n",
       "    </tr>\n",
       "    <tr>\n",
       "      <th>fffe31003400</th>\n",
       "      <td>Claudine Shreve</td>\n",
       "      <td>33</td>\n",
       "      <td>single</td>\n",
       "      <td>f</td>\n",
       "      <td>straight</td>\n",
       "      <td>socially</td>\n",
       "      <td>never</td>\n",
       "      <td>65.0</td>\n",
       "      <td>other</td>\n",
       "      <td>san francisco, california</td>\n",
       "      <td>has dogs</td>\n",
       "      <td>no</td>\n",
       "      <td>english, spanish (fluently)</td>\n",
       "      <td>not interested</td>\n",
       "      <td>a little extra</td>\n",
       "      <td>4.0</td>\n",
       "      <td>no</td>\n",
       "      <td>i'm a mixed bag of nuts! i'm outgoing yet shy ...</td>\n",
       "      <td>same city</td>\n",
       "      <td>i'm a mixed bag of nuts i'm outgoing yet shy w...</td>\n",
       "    </tr>\n",
       "    <tr>\n",
       "      <th>fffe31003500</th>\n",
       "      <td>Myong Ellison</td>\n",
       "      <td>39</td>\n",
       "      <td>single</td>\n",
       "      <td>f</td>\n",
       "      <td>straight</td>\n",
       "      <td>often</td>\n",
       "      <td>sometimes</td>\n",
       "      <td>65.0</td>\n",
       "      <td>medicine / health</td>\n",
       "      <td>san francisco, california</td>\n",
       "      <td>likes dogs and has cats</td>\n",
       "      <td>no</td>\n",
       "      <td>english (fluently), spanish (fluently)</td>\n",
       "      <td>not interested</td>\n",
       "      <td>average</td>\n",
       "      <td>4.0</td>\n",
       "      <td>no</td>\n",
       "      <td>i'm easy-going, fun and and pretty straight fo...</td>\n",
       "      <td>same city</td>\n",
       "      <td>i'm easy-going fun and and pretty straight for...</td>\n",
       "    </tr>\n",
       "  </tbody>\n",
       "</table>\n",
       "</div>"
      ],
      "text/plain": [
       "                     username  age  status sex orientation      drinks  \\\n",
       "user_id                                                                  \n",
       "fffe31003000  Eric Goldberger   28  single   m    straight  very often   \n",
       "fffe31003200   Lucile Trexler   24  single   f    straight    socially   \n",
       "fffe31003300       Earl Eells   29  single   m    straight    socially   \n",
       "fffe31003400  Claudine Shreve   33  single   f    straight    socially   \n",
       "fffe31003500    Myong Ellison   39  single   f    straight       often   \n",
       "\n",
       "                  drugs  height                   job  \\\n",
       "user_id                                                 \n",
       "fffe31003000  sometimes    62.0                 other   \n",
       "fffe31003200      never    65.0     medicine / health   \n",
       "fffe31003300      never    73.0  education / academia   \n",
       "fffe31003400      never    65.0                 other   \n",
       "fffe31003500  sometimes    65.0     medicine / health   \n",
       "\n",
       "                               location                             pets  \\\n",
       "user_id                                                                    \n",
       "fffe31003000  san francisco, california  dislikes dogs and dislikes cats   \n",
       "fffe31003200  san francisco, california        likes dogs and likes cats   \n",
       "fffe31003300  san francisco, california     likes dogs and dislikes cats   \n",
       "fffe31003400  san francisco, california                         has dogs   \n",
       "fffe31003500  san francisco, california          likes dogs and has cats   \n",
       "\n",
       "                     smokes  \\\n",
       "user_id                       \n",
       "fffe31003000  when drinking   \n",
       "fffe31003200             no   \n",
       "fffe31003300             no   \n",
       "fffe31003400             no   \n",
       "fffe31003500             no   \n",
       "\n",
       "                                                       language  \\\n",
       "user_id                                                           \n",
       "fffe31003000    english, french, german, chinese, sign language   \n",
       "fffe31003200  english (fluently), spanish (okay), french (po...   \n",
       "fffe31003300                                            english   \n",
       "fffe31003400                        english, spanish (fluently)   \n",
       "fffe31003500             english (fluently), spanish (fluently)   \n",
       "\n",
       "               new_languages    body_profile  education_level dropped_out  \\\n",
       "user_id                                                                     \n",
       "fffe31003000  not interested         used up              4.0          no   \n",
       "fffe31003200      interested         average              3.0          no   \n",
       "fffe31003300  not interested         average              3.0          no   \n",
       "fffe31003400  not interested  a little extra              4.0          no   \n",
       "fffe31003500  not interested         average              4.0          no   \n",
       "\n",
       "                                                            bio  \\\n",
       "user_id                                                           \n",
       "fffe31003000  i work and i play. hard. all day. everyday. i ...   \n",
       "fffe31003200  so...there is much to say... for now, i'm a st...   \n",
       "fffe31003300  i moved to san francisco two years ago after l...   \n",
       "fffe31003400  i'm a mixed bag of nuts! i'm outgoing yet shy ...   \n",
       "fffe31003500  i'm easy-going, fun and and pretty straight fo...   \n",
       "\n",
       "             location_preference  \\\n",
       "user_id                            \n",
       "fffe31003000          same state   \n",
       "fffe31003200            anywhere   \n",
       "fffe31003300           same city   \n",
       "fffe31003400           same city   \n",
       "fffe31003500           same city   \n",
       "\n",
       "                                                       bio_proc  \n",
       "user_id                                                          \n",
       "fffe31003000  i work and i play hard all day everyday i am a...  \n",
       "fffe31003200  sothere is much to say for now i'm a student w...  \n",
       "fffe31003300  i moved to san francisco two years ago after l...  \n",
       "fffe31003400  i'm a mixed bag of nuts i'm outgoing yet shy w...  \n",
       "fffe31003500  i'm easy-going fun and and pretty straight for...  "
      ]
     },
     "execution_count": 60,
     "metadata": {},
     "output_type": "execute_result"
    }
   ],
   "source": [
    "tinder_data_reduced = tinder_data_reduced.set_index(\"user_id\")\n",
    "tinder_data_reduced.head()"
   ]
  },
  {
   "cell_type": "code",
   "execution_count": 61,
   "id": "a4a9592c-b2d1-4ff9-999c-6a8e387487a0",
   "metadata": {},
   "outputs": [],
   "source": [
    "# drop the username and single column - since we will not be matching on username and we only have orientation straight\n",
    "tinder_data_reduced.drop(['username', 'orientation'], axis=1, inplace=True)"
   ]
  },
  {
   "cell_type": "code",
   "execution_count": 62,
   "id": "b3e3157a-4539-46a7-a6fb-34663ab71115",
   "metadata": {},
   "outputs": [
    {
     "data": {
      "text/plain": [
       "(1361, 18)"
      ]
     },
     "execution_count": 62,
     "metadata": {},
     "output_type": "execute_result"
    }
   ],
   "source": [
    "tinder_data_reduced.shape"
   ]
  },
  {
   "cell_type": "code",
   "execution_count": 63,
   "id": "479b965d-c43c-4f86-a326-855965daa563",
   "metadata": {},
   "outputs": [
    {
     "data": {
      "text/plain": [
       "status\n",
       "single            1297\n",
       "seeing someone      34\n",
       "available           24\n",
       "married              6\n",
       "Name: count, dtype: int64"
      ]
     },
     "execution_count": 63,
     "metadata": {},
     "output_type": "execute_result"
    }
   ],
   "source": [
    "tinder_data_reduced.status.value_counts()"
   ]
  },
  {
   "cell_type": "code",
   "execution_count": 64,
   "id": "f7d88a53-6aa3-4643-925d-c44af28c1e40",
   "metadata": {},
   "outputs": [],
   "source": [
    "# only consider profiles that are single and available\n",
    "tinder_data_reduced = tinder_data_reduced[tinder_data_reduced.status.isin(['single', 'available'])]"
   ]
  },
  {
   "cell_type": "code",
   "execution_count": 65,
   "id": "2ef2587e-3db7-478f-b5c2-b7e7f6cb3520",
   "metadata": {},
   "outputs": [
    {
     "data": {
      "text/plain": [
       "(1321, 18)"
      ]
     },
     "execution_count": 65,
     "metadata": {},
     "output_type": "execute_result"
    }
   ],
   "source": [
    "tinder_data_reduced.shape"
   ]
  },
  {
   "cell_type": "code",
   "execution_count": 66,
   "id": "6c751a57-5541-4190-b694-5d5f327bfdc5",
   "metadata": {},
   "outputs": [],
   "source": [
    "# drop the status column, as we only have profiles that are single and available\n",
    "tinder_data_reduced.drop(['status'], axis=1, inplace=True)"
   ]
  },
  {
   "cell_type": "code",
   "execution_count": 67,
   "id": "7a69a3e4-8536-4e87-b436-1b8990ea7fe2",
   "metadata": {},
   "outputs": [
    {
     "data": {
      "text/plain": [
       "(1321, 17)"
      ]
     },
     "execution_count": 67,
     "metadata": {},
     "output_type": "execute_result"
    }
   ],
   "source": [
    "tinder_data_reduced.shape"
   ]
  },
  {
   "cell_type": "code",
   "execution_count": 68,
   "id": "18c0d908-bd0c-4225-ae51-d02042de9735",
   "metadata": {},
   "outputs": [
    {
     "data": {
      "text/plain": [
       "(1321, 17)"
      ]
     },
     "execution_count": 68,
     "metadata": {},
     "output_type": "execute_result"
    }
   ],
   "source": [
    "tinder_data_reduced.shape"
   ]
  },
  {
   "cell_type": "code",
   "execution_count": 69,
   "id": "3353a712-c85e-4f8a-a703-ce02715c31c4",
   "metadata": {},
   "outputs": [
    {
     "data": {
      "text/plain": [
       "drinks\n",
       "socially       937\n",
       "rarely         139\n",
       "often          129\n",
       "not at all      96\n",
       "very often      11\n",
       "desperately      9\n",
       "Name: count, dtype: int64"
      ]
     },
     "execution_count": 69,
     "metadata": {},
     "output_type": "execute_result"
    }
   ],
   "source": [
    "tinder_data_reduced.drinks.value_counts()"
   ]
  },
  {
   "cell_type": "code",
   "execution_count": 70,
   "id": "6ae41c26-fa31-4a2b-b91d-a4b47706a36b",
   "metadata": {},
   "outputs": [
    {
     "data": {
      "text/html": [
       "<div>\n",
       "<style scoped>\n",
       "    .dataframe tbody tr th:only-of-type {\n",
       "        vertical-align: middle;\n",
       "    }\n",
       "\n",
       "    .dataframe tbody tr th {\n",
       "        vertical-align: top;\n",
       "    }\n",
       "\n",
       "    .dataframe thead th {\n",
       "        text-align: right;\n",
       "    }\n",
       "</style>\n",
       "<table border=\"1\" class=\"dataframe\">\n",
       "  <thead>\n",
       "    <tr style=\"text-align: right;\">\n",
       "      <th></th>\n",
       "      <th>age</th>\n",
       "      <th>sex</th>\n",
       "      <th>drinks</th>\n",
       "      <th>drugs</th>\n",
       "      <th>height</th>\n",
       "      <th>job</th>\n",
       "      <th>location</th>\n",
       "      <th>pets</th>\n",
       "      <th>smokes</th>\n",
       "      <th>language</th>\n",
       "      <th>...</th>\n",
       "      <th>dropped_out</th>\n",
       "      <th>bio</th>\n",
       "      <th>location_preference</th>\n",
       "      <th>bio_proc</th>\n",
       "      <th>drinks_desperately</th>\n",
       "      <th>drinks_not at all</th>\n",
       "      <th>drinks_often</th>\n",
       "      <th>drinks_rarely</th>\n",
       "      <th>drinks_socially</th>\n",
       "      <th>drinks_very often</th>\n",
       "    </tr>\n",
       "    <tr>\n",
       "      <th>user_id</th>\n",
       "      <th></th>\n",
       "      <th></th>\n",
       "      <th></th>\n",
       "      <th></th>\n",
       "      <th></th>\n",
       "      <th></th>\n",
       "      <th></th>\n",
       "      <th></th>\n",
       "      <th></th>\n",
       "      <th></th>\n",
       "      <th></th>\n",
       "      <th></th>\n",
       "      <th></th>\n",
       "      <th></th>\n",
       "      <th></th>\n",
       "      <th></th>\n",
       "      <th></th>\n",
       "      <th></th>\n",
       "      <th></th>\n",
       "      <th></th>\n",
       "      <th></th>\n",
       "    </tr>\n",
       "  </thead>\n",
       "  <tbody>\n",
       "    <tr>\n",
       "      <th>fffe31003000</th>\n",
       "      <td>28</td>\n",
       "      <td>m</td>\n",
       "      <td>very often</td>\n",
       "      <td>sometimes</td>\n",
       "      <td>62.0</td>\n",
       "      <td>other</td>\n",
       "      <td>san francisco, california</td>\n",
       "      <td>dislikes dogs and dislikes cats</td>\n",
       "      <td>when drinking</td>\n",
       "      <td>english, french, german, chinese, sign language</td>\n",
       "      <td>...</td>\n",
       "      <td>no</td>\n",
       "      <td>i work and i play. hard. all day. everyday. i ...</td>\n",
       "      <td>same state</td>\n",
       "      <td>i work and i play hard all day everyday i am a...</td>\n",
       "      <td>False</td>\n",
       "      <td>False</td>\n",
       "      <td>False</td>\n",
       "      <td>False</td>\n",
       "      <td>False</td>\n",
       "      <td>True</td>\n",
       "    </tr>\n",
       "    <tr>\n",
       "      <th>fffe31003200</th>\n",
       "      <td>24</td>\n",
       "      <td>f</td>\n",
       "      <td>socially</td>\n",
       "      <td>never</td>\n",
       "      <td>65.0</td>\n",
       "      <td>medicine / health</td>\n",
       "      <td>san francisco, california</td>\n",
       "      <td>likes dogs and likes cats</td>\n",
       "      <td>no</td>\n",
       "      <td>english (fluently), spanish (okay), french (po...</td>\n",
       "      <td>...</td>\n",
       "      <td>no</td>\n",
       "      <td>so...there is much to say... for now, i'm a st...</td>\n",
       "      <td>anywhere</td>\n",
       "      <td>sothere is much to say for now i'm a student w...</td>\n",
       "      <td>False</td>\n",
       "      <td>False</td>\n",
       "      <td>False</td>\n",
       "      <td>False</td>\n",
       "      <td>True</td>\n",
       "      <td>False</td>\n",
       "    </tr>\n",
       "    <tr>\n",
       "      <th>fffe31003300</th>\n",
       "      <td>29</td>\n",
       "      <td>m</td>\n",
       "      <td>socially</td>\n",
       "      <td>never</td>\n",
       "      <td>73.0</td>\n",
       "      <td>education / academia</td>\n",
       "      <td>san francisco, california</td>\n",
       "      <td>likes dogs and dislikes cats</td>\n",
       "      <td>no</td>\n",
       "      <td>english</td>\n",
       "      <td>...</td>\n",
       "      <td>no</td>\n",
       "      <td>i moved to san francisco two years ago after l...</td>\n",
       "      <td>same city</td>\n",
       "      <td>i moved to san francisco two years ago after l...</td>\n",
       "      <td>False</td>\n",
       "      <td>False</td>\n",
       "      <td>False</td>\n",
       "      <td>False</td>\n",
       "      <td>True</td>\n",
       "      <td>False</td>\n",
       "    </tr>\n",
       "    <tr>\n",
       "      <th>fffe31003400</th>\n",
       "      <td>33</td>\n",
       "      <td>f</td>\n",
       "      <td>socially</td>\n",
       "      <td>never</td>\n",
       "      <td>65.0</td>\n",
       "      <td>other</td>\n",
       "      <td>san francisco, california</td>\n",
       "      <td>has dogs</td>\n",
       "      <td>no</td>\n",
       "      <td>english, spanish (fluently)</td>\n",
       "      <td>...</td>\n",
       "      <td>no</td>\n",
       "      <td>i'm a mixed bag of nuts! i'm outgoing yet shy ...</td>\n",
       "      <td>same city</td>\n",
       "      <td>i'm a mixed bag of nuts i'm outgoing yet shy w...</td>\n",
       "      <td>False</td>\n",
       "      <td>False</td>\n",
       "      <td>False</td>\n",
       "      <td>False</td>\n",
       "      <td>True</td>\n",
       "      <td>False</td>\n",
       "    </tr>\n",
       "    <tr>\n",
       "      <th>fffe31003500</th>\n",
       "      <td>39</td>\n",
       "      <td>f</td>\n",
       "      <td>often</td>\n",
       "      <td>sometimes</td>\n",
       "      <td>65.0</td>\n",
       "      <td>medicine / health</td>\n",
       "      <td>san francisco, california</td>\n",
       "      <td>likes dogs and has cats</td>\n",
       "      <td>no</td>\n",
       "      <td>english (fluently), spanish (fluently)</td>\n",
       "      <td>...</td>\n",
       "      <td>no</td>\n",
       "      <td>i'm easy-going, fun and and pretty straight fo...</td>\n",
       "      <td>same city</td>\n",
       "      <td>i'm easy-going fun and and pretty straight for...</td>\n",
       "      <td>False</td>\n",
       "      <td>False</td>\n",
       "      <td>True</td>\n",
       "      <td>False</td>\n",
       "      <td>False</td>\n",
       "      <td>False</td>\n",
       "    </tr>\n",
       "    <tr>\n",
       "      <th>...</th>\n",
       "      <td>...</td>\n",
       "      <td>...</td>\n",
       "      <td>...</td>\n",
       "      <td>...</td>\n",
       "      <td>...</td>\n",
       "      <td>...</td>\n",
       "      <td>...</td>\n",
       "      <td>...</td>\n",
       "      <td>...</td>\n",
       "      <td>...</td>\n",
       "      <td>...</td>\n",
       "      <td>...</td>\n",
       "      <td>...</td>\n",
       "      <td>...</td>\n",
       "      <td>...</td>\n",
       "      <td>...</td>\n",
       "      <td>...</td>\n",
       "      <td>...</td>\n",
       "      <td>...</td>\n",
       "      <td>...</td>\n",
       "      <td>...</td>\n",
       "    </tr>\n",
       "    <tr>\n",
       "      <th>fffe3100390039003000</th>\n",
       "      <td>19</td>\n",
       "      <td>m</td>\n",
       "      <td>socially</td>\n",
       "      <td>never</td>\n",
       "      <td>73.0</td>\n",
       "      <td>student</td>\n",
       "      <td>pacifica, california</td>\n",
       "      <td>has dogs and likes cats</td>\n",
       "      <td>no</td>\n",
       "      <td>english (fluently), spanish (poorly), chinese ...</td>\n",
       "      <td>...</td>\n",
       "      <td>no</td>\n",
       "      <td>hmm, i'd like to say i'm ambitious at almost e...</td>\n",
       "      <td>same city</td>\n",
       "      <td>hmm i'd like to say i'm ambitious at almost ev...</td>\n",
       "      <td>False</td>\n",
       "      <td>False</td>\n",
       "      <td>False</td>\n",
       "      <td>False</td>\n",
       "      <td>True</td>\n",
       "      <td>False</td>\n",
       "    </tr>\n",
       "    <tr>\n",
       "      <th>fffe3100390039003100</th>\n",
       "      <td>26</td>\n",
       "      <td>f</td>\n",
       "      <td>socially</td>\n",
       "      <td>never</td>\n",
       "      <td>65.0</td>\n",
       "      <td>student</td>\n",
       "      <td>redwood city, california</td>\n",
       "      <td>has dogs and has cats</td>\n",
       "      <td>no</td>\n",
       "      <td>english</td>\n",
       "      <td>...</td>\n",
       "      <td>no</td>\n",
       "      <td>i'm from the sf bay area and love it here. my ...</td>\n",
       "      <td>same city</td>\n",
       "      <td>i'm from the sf bay area and love it here my s...</td>\n",
       "      <td>False</td>\n",
       "      <td>False</td>\n",
       "      <td>False</td>\n",
       "      <td>False</td>\n",
       "      <td>True</td>\n",
       "      <td>False</td>\n",
       "    </tr>\n",
       "    <tr>\n",
       "      <th>fffe3100390039003300</th>\n",
       "      <td>30</td>\n",
       "      <td>m</td>\n",
       "      <td>socially</td>\n",
       "      <td>never</td>\n",
       "      <td>73.0</td>\n",
       "      <td>student</td>\n",
       "      <td>berkeley, california</td>\n",
       "      <td>likes dogs and likes cats</td>\n",
       "      <td>no</td>\n",
       "      <td>english (fluently), german (okay)</td>\n",
       "      <td>...</td>\n",
       "      <td>no</td>\n",
       "      <td>i've decided to re-write this whole thing, whi...</td>\n",
       "      <td>anywhere</td>\n",
       "      <td>i've decided to re-write this whole thing whic...</td>\n",
       "      <td>False</td>\n",
       "      <td>False</td>\n",
       "      <td>False</td>\n",
       "      <td>False</td>\n",
       "      <td>True</td>\n",
       "      <td>False</td>\n",
       "    </tr>\n",
       "    <tr>\n",
       "      <th>fffe3100390039003700</th>\n",
       "      <td>24</td>\n",
       "      <td>m</td>\n",
       "      <td>socially</td>\n",
       "      <td>never</td>\n",
       "      <td>69.0</td>\n",
       "      <td>student</td>\n",
       "      <td>oakland, california</td>\n",
       "      <td>likes dogs and likes cats</td>\n",
       "      <td>yes</td>\n",
       "      <td>english</td>\n",
       "      <td>...</td>\n",
       "      <td>no</td>\n",
       "      <td>i grew up playing instruments and singing and ...</td>\n",
       "      <td>same city</td>\n",
       "      <td>i grew up playing instruments and singing and ...</td>\n",
       "      <td>False</td>\n",
       "      <td>False</td>\n",
       "      <td>False</td>\n",
       "      <td>False</td>\n",
       "      <td>True</td>\n",
       "      <td>False</td>\n",
       "    </tr>\n",
       "    <tr>\n",
       "      <th>fffe3100390039003900</th>\n",
       "      <td>28</td>\n",
       "      <td>m</td>\n",
       "      <td>rarely</td>\n",
       "      <td>never</td>\n",
       "      <td>71.0</td>\n",
       "      <td>sales / marketing / biz dev</td>\n",
       "      <td>pleasant hill, california</td>\n",
       "      <td>likes dogs</td>\n",
       "      <td>no</td>\n",
       "      <td>english</td>\n",
       "      <td>...</td>\n",
       "      <td>no</td>\n",
       "      <td>i've spent the last 10 years working in the ou...</td>\n",
       "      <td>anywhere</td>\n",
       "      <td>i've spent the last 10 years working in the ou...</td>\n",
       "      <td>False</td>\n",
       "      <td>False</td>\n",
       "      <td>False</td>\n",
       "      <td>True</td>\n",
       "      <td>False</td>\n",
       "      <td>False</td>\n",
       "    </tr>\n",
       "  </tbody>\n",
       "</table>\n",
       "<p>1321 rows × 23 columns</p>\n",
       "</div>"
      ],
      "text/plain": [
       "                      age sex      drinks      drugs  height  \\\n",
       "user_id                                                        \n",
       "fffe31003000           28   m  very often  sometimes    62.0   \n",
       "fffe31003200           24   f    socially      never    65.0   \n",
       "fffe31003300           29   m    socially      never    73.0   \n",
       "fffe31003400           33   f    socially      never    65.0   \n",
       "fffe31003500           39   f       often  sometimes    65.0   \n",
       "...                   ...  ..         ...        ...     ...   \n",
       "fffe3100390039003000   19   m    socially      never    73.0   \n",
       "fffe3100390039003100   26   f    socially      never    65.0   \n",
       "fffe3100390039003300   30   m    socially      never    73.0   \n",
       "fffe3100390039003700   24   m    socially      never    69.0   \n",
       "fffe3100390039003900   28   m      rarely      never    71.0   \n",
       "\n",
       "                                              job                   location  \\\n",
       "user_id                                                                        \n",
       "fffe31003000                                other  san francisco, california   \n",
       "fffe31003200                    medicine / health  san francisco, california   \n",
       "fffe31003300                 education / academia  san francisco, california   \n",
       "fffe31003400                                other  san francisco, california   \n",
       "fffe31003500                    medicine / health  san francisco, california   \n",
       "...                                           ...                        ...   \n",
       "fffe3100390039003000                      student       pacifica, california   \n",
       "fffe3100390039003100                      student   redwood city, california   \n",
       "fffe3100390039003300                      student       berkeley, california   \n",
       "fffe3100390039003700                      student        oakland, california   \n",
       "fffe3100390039003900  sales / marketing / biz dev  pleasant hill, california   \n",
       "\n",
       "                                                 pets         smokes  \\\n",
       "user_id                                                                \n",
       "fffe31003000          dislikes dogs and dislikes cats  when drinking   \n",
       "fffe31003200                likes dogs and likes cats             no   \n",
       "fffe31003300             likes dogs and dislikes cats             no   \n",
       "fffe31003400                                 has dogs             no   \n",
       "fffe31003500                  likes dogs and has cats             no   \n",
       "...                                               ...            ...   \n",
       "fffe3100390039003000          has dogs and likes cats             no   \n",
       "fffe3100390039003100            has dogs and has cats             no   \n",
       "fffe3100390039003300        likes dogs and likes cats             no   \n",
       "fffe3100390039003700        likes dogs and likes cats            yes   \n",
       "fffe3100390039003900                       likes dogs             no   \n",
       "\n",
       "                                                               language  ...  \\\n",
       "user_id                                                                  ...   \n",
       "fffe31003000            english, french, german, chinese, sign language  ...   \n",
       "fffe31003200          english (fluently), spanish (okay), french (po...  ...   \n",
       "fffe31003300                                                    english  ...   \n",
       "fffe31003400                                english, spanish (fluently)  ...   \n",
       "fffe31003500                     english (fluently), spanish (fluently)  ...   \n",
       "...                                                                 ...  ...   \n",
       "fffe3100390039003000  english (fluently), spanish (poorly), chinese ...  ...   \n",
       "fffe3100390039003100                                            english  ...   \n",
       "fffe3100390039003300                  english (fluently), german (okay)  ...   \n",
       "fffe3100390039003700                                            english  ...   \n",
       "fffe3100390039003900                                            english  ...   \n",
       "\n",
       "                     dropped_out  \\\n",
       "user_id                            \n",
       "fffe31003000                  no   \n",
       "fffe31003200                  no   \n",
       "fffe31003300                  no   \n",
       "fffe31003400                  no   \n",
       "fffe31003500                  no   \n",
       "...                          ...   \n",
       "fffe3100390039003000          no   \n",
       "fffe3100390039003100          no   \n",
       "fffe3100390039003300          no   \n",
       "fffe3100390039003700          no   \n",
       "fffe3100390039003900          no   \n",
       "\n",
       "                                                                    bio  \\\n",
       "user_id                                                                   \n",
       "fffe31003000          i work and i play. hard. all day. everyday. i ...   \n",
       "fffe31003200          so...there is much to say... for now, i'm a st...   \n",
       "fffe31003300          i moved to san francisco two years ago after l...   \n",
       "fffe31003400          i'm a mixed bag of nuts! i'm outgoing yet shy ...   \n",
       "fffe31003500          i'm easy-going, fun and and pretty straight fo...   \n",
       "...                                                                 ...   \n",
       "fffe3100390039003000  hmm, i'd like to say i'm ambitious at almost e...   \n",
       "fffe3100390039003100  i'm from the sf bay area and love it here. my ...   \n",
       "fffe3100390039003300  i've decided to re-write this whole thing, whi...   \n",
       "fffe3100390039003700  i grew up playing instruments and singing and ...   \n",
       "fffe3100390039003900  i've spent the last 10 years working in the ou...   \n",
       "\n",
       "                      location_preference  \\\n",
       "user_id                                     \n",
       "fffe31003000                   same state   \n",
       "fffe31003200                     anywhere   \n",
       "fffe31003300                    same city   \n",
       "fffe31003400                    same city   \n",
       "fffe31003500                    same city   \n",
       "...                                   ...   \n",
       "fffe3100390039003000            same city   \n",
       "fffe3100390039003100            same city   \n",
       "fffe3100390039003300             anywhere   \n",
       "fffe3100390039003700            same city   \n",
       "fffe3100390039003900             anywhere   \n",
       "\n",
       "                                                               bio_proc  \\\n",
       "user_id                                                                   \n",
       "fffe31003000          i work and i play hard all day everyday i am a...   \n",
       "fffe31003200          sothere is much to say for now i'm a student w...   \n",
       "fffe31003300          i moved to san francisco two years ago after l...   \n",
       "fffe31003400          i'm a mixed bag of nuts i'm outgoing yet shy w...   \n",
       "fffe31003500          i'm easy-going fun and and pretty straight for...   \n",
       "...                                                                 ...   \n",
       "fffe3100390039003000  hmm i'd like to say i'm ambitious at almost ev...   \n",
       "fffe3100390039003100  i'm from the sf bay area and love it here my s...   \n",
       "fffe3100390039003300  i've decided to re-write this whole thing whic...   \n",
       "fffe3100390039003700  i grew up playing instruments and singing and ...   \n",
       "fffe3100390039003900  i've spent the last 10 years working in the ou...   \n",
       "\n",
       "                     drinks_desperately drinks_not at all drinks_often  \\\n",
       "user_id                                                                  \n",
       "fffe31003000                      False             False        False   \n",
       "fffe31003200                      False             False        False   \n",
       "fffe31003300                      False             False        False   \n",
       "fffe31003400                      False             False        False   \n",
       "fffe31003500                      False             False         True   \n",
       "...                                 ...               ...          ...   \n",
       "fffe3100390039003000              False             False        False   \n",
       "fffe3100390039003100              False             False        False   \n",
       "fffe3100390039003300              False             False        False   \n",
       "fffe3100390039003700              False             False        False   \n",
       "fffe3100390039003900              False             False        False   \n",
       "\n",
       "                      drinks_rarely  drinks_socially  drinks_very often  \n",
       "user_id                                                                  \n",
       "fffe31003000                  False            False               True  \n",
       "fffe31003200                  False             True              False  \n",
       "fffe31003300                  False             True              False  \n",
       "fffe31003400                  False             True              False  \n",
       "fffe31003500                  False            False              False  \n",
       "...                             ...              ...                ...  \n",
       "fffe3100390039003000          False             True              False  \n",
       "fffe3100390039003100          False             True              False  \n",
       "fffe3100390039003300          False             True              False  \n",
       "fffe3100390039003700          False             True              False  \n",
       "fffe3100390039003900           True            False              False  \n",
       "\n",
       "[1321 rows x 23 columns]"
      ]
     },
     "execution_count": 70,
     "metadata": {},
     "output_type": "execute_result"
    }
   ],
   "source": [
    "pd.get_dummies(tinder_data_reduced.drinks, prefix=\"drinks\")\n",
    "pd.concat([tinder_data_reduced, pd.get_dummies(tinder_data_reduced.drinks, prefix=\"drinks\")], axis = 1)"
   ]
  },
  {
   "cell_type": "code",
   "execution_count": 71,
   "id": "962b5640-469f-4eed-b437-b52fb8ce2b4a",
   "metadata": {},
   "outputs": [],
   "source": [
    "def one_hot(df, categorical_cols):\n",
    "    \"\"\"\n",
    "    @param df pandas DataFrame\n",
    "    @param cols a list of columns to encode \n",
    "    @return a DataFrame with one-hot encoding\n",
    "    \"\"\"\n",
    "    \n",
    "    for c in categorical_cols:\n",
    "        dummies = pd.get_dummies(df[c], prefix=c)\n",
    "        df = pd.concat([df, dummies], axis=1)\n",
    "        df.drop(c, axis = 1, inplace = True)\n",
    "    \n",
    "    return df"
   ]
  },
  {
   "cell_type": "code",
   "execution_count": 72,
   "id": "c185feb6-9b88-449a-9c89-1d6c30475572",
   "metadata": {},
   "outputs": [
    {
     "data": {
      "text/html": [
       "<div>\n",
       "<style scoped>\n",
       "    .dataframe tbody tr th:only-of-type {\n",
       "        vertical-align: middle;\n",
       "    }\n",
       "\n",
       "    .dataframe tbody tr th {\n",
       "        vertical-align: top;\n",
       "    }\n",
       "\n",
       "    .dataframe thead th {\n",
       "        text-align: right;\n",
       "    }\n",
       "</style>\n",
       "<table border=\"1\" class=\"dataframe\">\n",
       "  <thead>\n",
       "    <tr style=\"text-align: right;\">\n",
       "      <th></th>\n",
       "      <th>age</th>\n",
       "      <th>sex</th>\n",
       "      <th>drugs</th>\n",
       "      <th>height</th>\n",
       "      <th>job</th>\n",
       "      <th>location</th>\n",
       "      <th>pets</th>\n",
       "      <th>smokes</th>\n",
       "      <th>language</th>\n",
       "      <th>new_languages</th>\n",
       "      <th>...</th>\n",
       "      <th>dropped_out</th>\n",
       "      <th>bio</th>\n",
       "      <th>location_preference</th>\n",
       "      <th>bio_proc</th>\n",
       "      <th>drinks_desperately</th>\n",
       "      <th>drinks_not at all</th>\n",
       "      <th>drinks_often</th>\n",
       "      <th>drinks_rarely</th>\n",
       "      <th>drinks_socially</th>\n",
       "      <th>drinks_very often</th>\n",
       "    </tr>\n",
       "    <tr>\n",
       "      <th>user_id</th>\n",
       "      <th></th>\n",
       "      <th></th>\n",
       "      <th></th>\n",
       "      <th></th>\n",
       "      <th></th>\n",
       "      <th></th>\n",
       "      <th></th>\n",
       "      <th></th>\n",
       "      <th></th>\n",
       "      <th></th>\n",
       "      <th></th>\n",
       "      <th></th>\n",
       "      <th></th>\n",
       "      <th></th>\n",
       "      <th></th>\n",
       "      <th></th>\n",
       "      <th></th>\n",
       "      <th></th>\n",
       "      <th></th>\n",
       "      <th></th>\n",
       "      <th></th>\n",
       "    </tr>\n",
       "  </thead>\n",
       "  <tbody>\n",
       "    <tr>\n",
       "      <th>fffe31003000</th>\n",
       "      <td>28</td>\n",
       "      <td>m</td>\n",
       "      <td>sometimes</td>\n",
       "      <td>62.0</td>\n",
       "      <td>other</td>\n",
       "      <td>san francisco, california</td>\n",
       "      <td>dislikes dogs and dislikes cats</td>\n",
       "      <td>when drinking</td>\n",
       "      <td>english, french, german, chinese, sign language</td>\n",
       "      <td>not interested</td>\n",
       "      <td>...</td>\n",
       "      <td>no</td>\n",
       "      <td>i work and i play. hard. all day. everyday. i ...</td>\n",
       "      <td>same state</td>\n",
       "      <td>i work and i play hard all day everyday i am a...</td>\n",
       "      <td>False</td>\n",
       "      <td>False</td>\n",
       "      <td>False</td>\n",
       "      <td>False</td>\n",
       "      <td>False</td>\n",
       "      <td>True</td>\n",
       "    </tr>\n",
       "    <tr>\n",
       "      <th>fffe31003200</th>\n",
       "      <td>24</td>\n",
       "      <td>f</td>\n",
       "      <td>never</td>\n",
       "      <td>65.0</td>\n",
       "      <td>medicine / health</td>\n",
       "      <td>san francisco, california</td>\n",
       "      <td>likes dogs and likes cats</td>\n",
       "      <td>no</td>\n",
       "      <td>english (fluently), spanish (okay), french (po...</td>\n",
       "      <td>interested</td>\n",
       "      <td>...</td>\n",
       "      <td>no</td>\n",
       "      <td>so...there is much to say... for now, i'm a st...</td>\n",
       "      <td>anywhere</td>\n",
       "      <td>sothere is much to say for now i'm a student w...</td>\n",
       "      <td>False</td>\n",
       "      <td>False</td>\n",
       "      <td>False</td>\n",
       "      <td>False</td>\n",
       "      <td>True</td>\n",
       "      <td>False</td>\n",
       "    </tr>\n",
       "    <tr>\n",
       "      <th>fffe31003300</th>\n",
       "      <td>29</td>\n",
       "      <td>m</td>\n",
       "      <td>never</td>\n",
       "      <td>73.0</td>\n",
       "      <td>education / academia</td>\n",
       "      <td>san francisco, california</td>\n",
       "      <td>likes dogs and dislikes cats</td>\n",
       "      <td>no</td>\n",
       "      <td>english</td>\n",
       "      <td>not interested</td>\n",
       "      <td>...</td>\n",
       "      <td>no</td>\n",
       "      <td>i moved to san francisco two years ago after l...</td>\n",
       "      <td>same city</td>\n",
       "      <td>i moved to san francisco two years ago after l...</td>\n",
       "      <td>False</td>\n",
       "      <td>False</td>\n",
       "      <td>False</td>\n",
       "      <td>False</td>\n",
       "      <td>True</td>\n",
       "      <td>False</td>\n",
       "    </tr>\n",
       "    <tr>\n",
       "      <th>fffe31003400</th>\n",
       "      <td>33</td>\n",
       "      <td>f</td>\n",
       "      <td>never</td>\n",
       "      <td>65.0</td>\n",
       "      <td>other</td>\n",
       "      <td>san francisco, california</td>\n",
       "      <td>has dogs</td>\n",
       "      <td>no</td>\n",
       "      <td>english, spanish (fluently)</td>\n",
       "      <td>not interested</td>\n",
       "      <td>...</td>\n",
       "      <td>no</td>\n",
       "      <td>i'm a mixed bag of nuts! i'm outgoing yet shy ...</td>\n",
       "      <td>same city</td>\n",
       "      <td>i'm a mixed bag of nuts i'm outgoing yet shy w...</td>\n",
       "      <td>False</td>\n",
       "      <td>False</td>\n",
       "      <td>False</td>\n",
       "      <td>False</td>\n",
       "      <td>True</td>\n",
       "      <td>False</td>\n",
       "    </tr>\n",
       "    <tr>\n",
       "      <th>fffe31003500</th>\n",
       "      <td>39</td>\n",
       "      <td>f</td>\n",
       "      <td>sometimes</td>\n",
       "      <td>65.0</td>\n",
       "      <td>medicine / health</td>\n",
       "      <td>san francisco, california</td>\n",
       "      <td>likes dogs and has cats</td>\n",
       "      <td>no</td>\n",
       "      <td>english (fluently), spanish (fluently)</td>\n",
       "      <td>not interested</td>\n",
       "      <td>...</td>\n",
       "      <td>no</td>\n",
       "      <td>i'm easy-going, fun and and pretty straight fo...</td>\n",
       "      <td>same city</td>\n",
       "      <td>i'm easy-going fun and and pretty straight for...</td>\n",
       "      <td>False</td>\n",
       "      <td>False</td>\n",
       "      <td>True</td>\n",
       "      <td>False</td>\n",
       "      <td>False</td>\n",
       "      <td>False</td>\n",
       "    </tr>\n",
       "  </tbody>\n",
       "</table>\n",
       "<p>5 rows × 22 columns</p>\n",
       "</div>"
      ],
      "text/plain": [
       "              age sex      drugs  height                   job  \\\n",
       "user_id                                                          \n",
       "fffe31003000   28   m  sometimes    62.0                 other   \n",
       "fffe31003200   24   f      never    65.0     medicine / health   \n",
       "fffe31003300   29   m      never    73.0  education / academia   \n",
       "fffe31003400   33   f      never    65.0                 other   \n",
       "fffe31003500   39   f  sometimes    65.0     medicine / health   \n",
       "\n",
       "                               location                             pets  \\\n",
       "user_id                                                                    \n",
       "fffe31003000  san francisco, california  dislikes dogs and dislikes cats   \n",
       "fffe31003200  san francisco, california        likes dogs and likes cats   \n",
       "fffe31003300  san francisco, california     likes dogs and dislikes cats   \n",
       "fffe31003400  san francisco, california                         has dogs   \n",
       "fffe31003500  san francisco, california          likes dogs and has cats   \n",
       "\n",
       "                     smokes  \\\n",
       "user_id                       \n",
       "fffe31003000  when drinking   \n",
       "fffe31003200             no   \n",
       "fffe31003300             no   \n",
       "fffe31003400             no   \n",
       "fffe31003500             no   \n",
       "\n",
       "                                                       language  \\\n",
       "user_id                                                           \n",
       "fffe31003000    english, french, german, chinese, sign language   \n",
       "fffe31003200  english (fluently), spanish (okay), french (po...   \n",
       "fffe31003300                                            english   \n",
       "fffe31003400                        english, spanish (fluently)   \n",
       "fffe31003500             english (fluently), spanish (fluently)   \n",
       "\n",
       "               new_languages  ... dropped_out  \\\n",
       "user_id                       ...               \n",
       "fffe31003000  not interested  ...          no   \n",
       "fffe31003200      interested  ...          no   \n",
       "fffe31003300  not interested  ...          no   \n",
       "fffe31003400  not interested  ...          no   \n",
       "fffe31003500  not interested  ...          no   \n",
       "\n",
       "                                                            bio  \\\n",
       "user_id                                                           \n",
       "fffe31003000  i work and i play. hard. all day. everyday. i ...   \n",
       "fffe31003200  so...there is much to say... for now, i'm a st...   \n",
       "fffe31003300  i moved to san francisco two years ago after l...   \n",
       "fffe31003400  i'm a mixed bag of nuts! i'm outgoing yet shy ...   \n",
       "fffe31003500  i'm easy-going, fun and and pretty straight fo...   \n",
       "\n",
       "             location_preference  \\\n",
       "user_id                            \n",
       "fffe31003000          same state   \n",
       "fffe31003200            anywhere   \n",
       "fffe31003300           same city   \n",
       "fffe31003400           same city   \n",
       "fffe31003500           same city   \n",
       "\n",
       "                                                       bio_proc  \\\n",
       "user_id                                                           \n",
       "fffe31003000  i work and i play hard all day everyday i am a...   \n",
       "fffe31003200  sothere is much to say for now i'm a student w...   \n",
       "fffe31003300  i moved to san francisco two years ago after l...   \n",
       "fffe31003400  i'm a mixed bag of nuts i'm outgoing yet shy w...   \n",
       "fffe31003500  i'm easy-going fun and and pretty straight for...   \n",
       "\n",
       "             drinks_desperately drinks_not at all  drinks_often  \\\n",
       "user_id                                                           \n",
       "fffe31003000              False             False         False   \n",
       "fffe31003200              False             False         False   \n",
       "fffe31003300              False             False         False   \n",
       "fffe31003400              False             False         False   \n",
       "fffe31003500              False             False          True   \n",
       "\n",
       "              drinks_rarely  drinks_socially  drinks_very often  \n",
       "user_id                                                          \n",
       "fffe31003000          False            False               True  \n",
       "fffe31003200          False             True              False  \n",
       "fffe31003300          False             True              False  \n",
       "fffe31003400          False             True              False  \n",
       "fffe31003500          False            False              False  \n",
       "\n",
       "[5 rows x 22 columns]"
      ]
     },
     "execution_count": 72,
     "metadata": {},
     "output_type": "execute_result"
    }
   ],
   "source": [
    "tinder_data_reduced = one_hot(tinder_data_reduced, [\"drinks\"])\n",
    "tinder_data_reduced.head()"
   ]
  },
  {
   "cell_type": "code",
   "execution_count": 73,
   "id": "6a5673ff-fd56-43ce-bcf0-7581da15fb12",
   "metadata": {},
   "outputs": [
    {
     "data": {
      "text/plain": [
       "(1321, 22)"
      ]
     },
     "execution_count": 73,
     "metadata": {},
     "output_type": "execute_result"
    }
   ],
   "source": [
    "tinder_data_reduced.shape"
   ]
  },
  {
   "cell_type": "code",
   "execution_count": 74,
   "id": "7d7dfbec-7463-4d2b-8814-ab5e7a8033c3",
   "metadata": {},
   "outputs": [],
   "source": [
    "# write your data frame to your data folder\n",
    "\n",
    "tinder_data_reduced.to_csv(\"../data/tinder_data_reduced.csv\")"
   ]
  },
  {
   "cell_type": "code",
   "execution_count": null,
   "id": "3b7f9a5b-3068-42ed-bb1d-725a13ecb19a",
   "metadata": {},
   "outputs": [],
   "source": []
  }
 ],
 "metadata": {
  "kernelspec": {
   "display_name": "Python 3 (ipykernel)",
   "language": "python",
   "name": "python3"
  },
  "language_info": {
   "codemirror_mode": {
    "name": "ipython",
    "version": 3
   },
   "file_extension": ".py",
   "mimetype": "text/x-python",
   "name": "python",
   "nbconvert_exporter": "python",
   "pygments_lexer": "ipython3",
   "version": "3.12.3"
  }
 },
 "nbformat": 4,
 "nbformat_minor": 5
}
