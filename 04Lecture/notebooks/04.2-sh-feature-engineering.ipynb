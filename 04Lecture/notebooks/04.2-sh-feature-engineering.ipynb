{
 "cells": [
  {
   "cell_type": "markdown",
   "id": "3c957492-a509-45c8-bc42-2918a356d82c",
   "metadata": {},
   "source": [
    "## Predict Tinder Matches\n",
    "\n",
    "We are going to make a recommender algorithm that recommends profiles to people based on their similar interests so we will aim to predict the profiles to the user such that the user finds it most interesting out of all and tries to connect with them\n",
    "\n",
    "Reference: https://www.geeksforgeeks.org/predict-tinder-matches-with-machine-learning/"
   ]
  },
  {
   "cell_type": "code",
   "execution_count": 1,
   "id": "7f93ebb7-8ae2-488f-abd5-d00804faf28b",
   "metadata": {},
   "outputs": [],
   "source": [
    "import pandas as pd\n",
    "import matplotlib.pyplot as plt\n",
    "import seaborn as sns"
   ]
  },
  {
   "cell_type": "code",
   "execution_count": 2,
   "id": "e9be3ed3-9407-4f7b-a67f-f35454642279",
   "metadata": {},
   "outputs": [],
   "source": [
    "tinder_data_reduced = pd.read_csv(\"../data/tinder_data_filtered.csv\")"
   ]
  },
  {
   "cell_type": "code",
   "execution_count": 3,
   "id": "78788afb-5f48-4fe2-af37-974a7cce6c74",
   "metadata": {},
   "outputs": [
    {
     "data": {
      "text/plain": [
       "pandas.core.frame.DataFrame"
      ]
     },
     "execution_count": 3,
     "metadata": {},
     "output_type": "execute_result"
    }
   ],
   "source": [
    "type(tinder_data_reduced)"
   ]
  },
  {
   "cell_type": "code",
   "execution_count": 4,
   "id": "9c5e8a24-d72c-41cf-98c6-dd212bc44b3f",
   "metadata": {},
   "outputs": [
    {
     "data": {
      "text/html": [
       "<div>\n",
       "<style scoped>\n",
       "    .dataframe tbody tr th:only-of-type {\n",
       "        vertical-align: middle;\n",
       "    }\n",
       "\n",
       "    .dataframe tbody tr th {\n",
       "        vertical-align: top;\n",
       "    }\n",
       "\n",
       "    .dataframe thead th {\n",
       "        text-align: right;\n",
       "    }\n",
       "</style>\n",
       "<table border=\"1\" class=\"dataframe\">\n",
       "  <thead>\n",
       "    <tr style=\"text-align: right;\">\n",
       "      <th></th>\n",
       "      <th>user_id</th>\n",
       "      <th>username</th>\n",
       "      <th>age</th>\n",
       "      <th>sex</th>\n",
       "      <th>drinks</th>\n",
       "      <th>drugs</th>\n",
       "      <th>height</th>\n",
       "      <th>job</th>\n",
       "      <th>pets</th>\n",
       "      <th>smokes</th>\n",
       "      <th>language</th>\n",
       "      <th>new_languages</th>\n",
       "      <th>body_profile</th>\n",
       "      <th>education_level</th>\n",
       "      <th>dropped_out</th>\n",
       "      <th>bio</th>\n",
       "      <th>cleaned_bio</th>\n",
       "    </tr>\n",
       "  </thead>\n",
       "  <tbody>\n",
       "    <tr>\n",
       "      <th>0</th>\n",
       "      <td>fffe31003000</td>\n",
       "      <td>Eric Goldberger</td>\n",
       "      <td>28</td>\n",
       "      <td>m</td>\n",
       "      <td>very often</td>\n",
       "      <td>sometimes</td>\n",
       "      <td>62.0</td>\n",
       "      <td>other</td>\n",
       "      <td>dislikes dogs and dislikes cats</td>\n",
       "      <td>when drinking</td>\n",
       "      <td>english, french, german, chinese, sign language</td>\n",
       "      <td>not interested</td>\n",
       "      <td>used up</td>\n",
       "      <td>4.0</td>\n",
       "      <td>no</td>\n",
       "      <td>i work and i play. hard. all day. everyday. i ...</td>\n",
       "      <td>work play hard day everyday professional archi...</td>\n",
       "    </tr>\n",
       "    <tr>\n",
       "      <th>1</th>\n",
       "      <td>fffe31003200</td>\n",
       "      <td>Lucile Trexler</td>\n",
       "      <td>24</td>\n",
       "      <td>f</td>\n",
       "      <td>socially</td>\n",
       "      <td>never</td>\n",
       "      <td>65.0</td>\n",
       "      <td>medicine / health</td>\n",
       "      <td>likes dogs and likes cats</td>\n",
       "      <td>no</td>\n",
       "      <td>english (fluently), spanish (okay), french (po...</td>\n",
       "      <td>interested</td>\n",
       "      <td>average</td>\n",
       "      <td>3.0</td>\n",
       "      <td>no</td>\n",
       "      <td>so...there is much to say... for now, i'm a st...</td>\n",
       "      <td>student tentative degree molecular cell biolog...</td>\n",
       "    </tr>\n",
       "    <tr>\n",
       "      <th>2</th>\n",
       "      <td>fffe31003300</td>\n",
       "      <td>Earl Eells</td>\n",
       "      <td>29</td>\n",
       "      <td>m</td>\n",
       "      <td>socially</td>\n",
       "      <td>never</td>\n",
       "      <td>73.0</td>\n",
       "      <td>education / academia</td>\n",
       "      <td>likes dogs and dislikes cats</td>\n",
       "      <td>no</td>\n",
       "      <td>english</td>\n",
       "      <td>not interested</td>\n",
       "      <td>average</td>\n",
       "      <td>3.0</td>\n",
       "      <td>no</td>\n",
       "      <td>i moved to san francisco two years ago after l...</td>\n",
       "      <td>move san francisco year ago live east bay year...</td>\n",
       "    </tr>\n",
       "    <tr>\n",
       "      <th>3</th>\n",
       "      <td>fffe31003400</td>\n",
       "      <td>Claudine Shreve</td>\n",
       "      <td>33</td>\n",
       "      <td>f</td>\n",
       "      <td>socially</td>\n",
       "      <td>never</td>\n",
       "      <td>65.0</td>\n",
       "      <td>other</td>\n",
       "      <td>has dogs</td>\n",
       "      <td>no</td>\n",
       "      <td>english, spanish (fluently)</td>\n",
       "      <td>not interested</td>\n",
       "      <td>a little extra</td>\n",
       "      <td>4.0</td>\n",
       "      <td>no</td>\n",
       "      <td>i'm a mixed bag of nuts! i'm outgoing yet shy ...</td>\n",
       "      <td>mixed bag nut outgoing shy meet people grow sf...</td>\n",
       "    </tr>\n",
       "    <tr>\n",
       "      <th>4</th>\n",
       "      <td>fffe31003500</td>\n",
       "      <td>Myong Ellison</td>\n",
       "      <td>39</td>\n",
       "      <td>f</td>\n",
       "      <td>often</td>\n",
       "      <td>sometimes</td>\n",
       "      <td>65.0</td>\n",
       "      <td>medicine / health</td>\n",
       "      <td>likes dogs and has cats</td>\n",
       "      <td>no</td>\n",
       "      <td>english (fluently), spanish (fluently)</td>\n",
       "      <td>not interested</td>\n",
       "      <td>average</td>\n",
       "      <td>4.0</td>\n",
       "      <td>no</td>\n",
       "      <td>i'm easy-going, fun and and pretty straight fo...</td>\n",
       "      <td>easy go fun pretty straight forward new englan...</td>\n",
       "    </tr>\n",
       "  </tbody>\n",
       "</table>\n",
       "</div>"
      ],
      "text/plain": [
       "        user_id         username  age sex      drinks      drugs  height  \\\n",
       "0  fffe31003000  Eric Goldberger   28   m  very often  sometimes    62.0   \n",
       "1  fffe31003200   Lucile Trexler   24   f    socially      never    65.0   \n",
       "2  fffe31003300       Earl Eells   29   m    socially      never    73.0   \n",
       "3  fffe31003400  Claudine Shreve   33   f    socially      never    65.0   \n",
       "4  fffe31003500    Myong Ellison   39   f       often  sometimes    65.0   \n",
       "\n",
       "                    job                             pets         smokes  \\\n",
       "0                 other  dislikes dogs and dislikes cats  when drinking   \n",
       "1     medicine / health        likes dogs and likes cats             no   \n",
       "2  education / academia     likes dogs and dislikes cats             no   \n",
       "3                 other                         has dogs             no   \n",
       "4     medicine / health          likes dogs and has cats             no   \n",
       "\n",
       "                                            language   new_languages  \\\n",
       "0    english, french, german, chinese, sign language  not interested   \n",
       "1  english (fluently), spanish (okay), french (po...      interested   \n",
       "2                                            english  not interested   \n",
       "3                        english, spanish (fluently)  not interested   \n",
       "4             english (fluently), spanish (fluently)  not interested   \n",
       "\n",
       "     body_profile  education_level dropped_out  \\\n",
       "0         used up              4.0          no   \n",
       "1         average              3.0          no   \n",
       "2         average              3.0          no   \n",
       "3  a little extra              4.0          no   \n",
       "4         average              4.0          no   \n",
       "\n",
       "                                                 bio  \\\n",
       "0  i work and i play. hard. all day. everyday. i ...   \n",
       "1  so...there is much to say... for now, i'm a st...   \n",
       "2  i moved to san francisco two years ago after l...   \n",
       "3  i'm a mixed bag of nuts! i'm outgoing yet shy ...   \n",
       "4  i'm easy-going, fun and and pretty straight fo...   \n",
       "\n",
       "                                         cleaned_bio  \n",
       "0  work play hard day everyday professional archi...  \n",
       "1  student tentative degree molecular cell biolog...  \n",
       "2  move san francisco year ago live east bay year...  \n",
       "3  mixed bag nut outgoing shy meet people grow sf...  \n",
       "4  easy go fun pretty straight forward new englan...  "
      ]
     },
     "execution_count": 4,
     "metadata": {},
     "output_type": "execute_result"
    }
   ],
   "source": [
    "tinder_data_reduced.head()"
   ]
  },
  {
   "cell_type": "code",
   "execution_count": 5,
   "id": "7a27a3a8-fdc7-4152-8906-9f101c2d9d06",
   "metadata": {},
   "outputs": [
    {
     "data": {
      "text/plain": [
       "(1321, 17)"
      ]
     },
     "execution_count": 5,
     "metadata": {},
     "output_type": "execute_result"
    }
   ],
   "source": [
    "tinder_data_reduced.shape"
   ]
  },
  {
   "cell_type": "code",
   "execution_count": 6,
   "id": "5686a19b-facf-43a2-8212-f41c8400b2d3",
   "metadata": {},
   "outputs": [
    {
     "name": "stdout",
     "output_type": "stream",
     "text": [
      "<class 'pandas.core.frame.DataFrame'>\n",
      "RangeIndex: 1321 entries, 0 to 1320\n",
      "Data columns (total 17 columns):\n",
      " #   Column           Non-Null Count  Dtype  \n",
      "---  ------           --------------  -----  \n",
      " 0   user_id          1321 non-null   object \n",
      " 1   username         1321 non-null   object \n",
      " 2   age              1321 non-null   int64  \n",
      " 3   sex              1321 non-null   object \n",
      " 4   drinks           1321 non-null   object \n",
      " 5   drugs            1321 non-null   object \n",
      " 6   height           1321 non-null   float64\n",
      " 7   job              1321 non-null   object \n",
      " 8   pets             1321 non-null   object \n",
      " 9   smokes           1321 non-null   object \n",
      " 10  language         1321 non-null   object \n",
      " 11  new_languages    1321 non-null   object \n",
      " 12  body_profile     1321 non-null   object \n",
      " 13  education_level  1321 non-null   float64\n",
      " 14  dropped_out      1321 non-null   object \n",
      " 15  bio              1321 non-null   object \n",
      " 16  cleaned_bio      1320 non-null   object \n",
      "dtypes: float64(2), int64(1), object(14)\n",
      "memory usage: 175.6+ KB\n"
     ]
    }
   ],
   "source": [
    "tinder_data_reduced.info()"
   ]
  },
  {
   "cell_type": "code",
   "execution_count": 7,
   "id": "a8613aab-716e-44cb-84d1-712ba770acbb",
   "metadata": {},
   "outputs": [
    {
     "data": {
      "text/plain": [
       "['user_id',\n",
       " 'username',\n",
       " 'sex',\n",
       " 'drinks',\n",
       " 'drugs',\n",
       " 'job',\n",
       " 'pets',\n",
       " 'smokes',\n",
       " 'language',\n",
       " 'new_languages',\n",
       " 'body_profile',\n",
       " 'dropped_out',\n",
       " 'bio',\n",
       " 'cleaned_bio']"
      ]
     },
     "execution_count": 7,
     "metadata": {},
     "output_type": "execute_result"
    }
   ],
   "source": [
    "# identify all the features that need encoding\n",
    "\n",
    "list(tinder_data_reduced.select_dtypes('object').columns)"
   ]
  },
  {
   "cell_type": "code",
   "execution_count": 8,
   "id": "77e4b858-a170-48db-9df7-8e8ad0362d8c",
   "metadata": {},
   "outputs": [
    {
     "data": {
      "text/html": [
       "<div>\n",
       "<style scoped>\n",
       "    .dataframe tbody tr th:only-of-type {\n",
       "        vertical-align: middle;\n",
       "    }\n",
       "\n",
       "    .dataframe tbody tr th {\n",
       "        vertical-align: top;\n",
       "    }\n",
       "\n",
       "    .dataframe thead th {\n",
       "        text-align: right;\n",
       "    }\n",
       "</style>\n",
       "<table border=\"1\" class=\"dataframe\">\n",
       "  <thead>\n",
       "    <tr style=\"text-align: right;\">\n",
       "      <th></th>\n",
       "      <th>username</th>\n",
       "      <th>age</th>\n",
       "      <th>sex</th>\n",
       "      <th>drinks</th>\n",
       "      <th>drugs</th>\n",
       "      <th>height</th>\n",
       "      <th>job</th>\n",
       "      <th>pets</th>\n",
       "      <th>smokes</th>\n",
       "      <th>language</th>\n",
       "      <th>new_languages</th>\n",
       "      <th>body_profile</th>\n",
       "      <th>education_level</th>\n",
       "      <th>dropped_out</th>\n",
       "      <th>bio</th>\n",
       "      <th>cleaned_bio</th>\n",
       "    </tr>\n",
       "    <tr>\n",
       "      <th>user_id</th>\n",
       "      <th></th>\n",
       "      <th></th>\n",
       "      <th></th>\n",
       "      <th></th>\n",
       "      <th></th>\n",
       "      <th></th>\n",
       "      <th></th>\n",
       "      <th></th>\n",
       "      <th></th>\n",
       "      <th></th>\n",
       "      <th></th>\n",
       "      <th></th>\n",
       "      <th></th>\n",
       "      <th></th>\n",
       "      <th></th>\n",
       "      <th></th>\n",
       "    </tr>\n",
       "  </thead>\n",
       "  <tbody>\n",
       "    <tr>\n",
       "      <th>fffe31003000</th>\n",
       "      <td>Eric Goldberger</td>\n",
       "      <td>28</td>\n",
       "      <td>m</td>\n",
       "      <td>very often</td>\n",
       "      <td>sometimes</td>\n",
       "      <td>62.0</td>\n",
       "      <td>other</td>\n",
       "      <td>dislikes dogs and dislikes cats</td>\n",
       "      <td>when drinking</td>\n",
       "      <td>english, french, german, chinese, sign language</td>\n",
       "      <td>not interested</td>\n",
       "      <td>used up</td>\n",
       "      <td>4.0</td>\n",
       "      <td>no</td>\n",
       "      <td>i work and i play. hard. all day. everyday. i ...</td>\n",
       "      <td>work play hard day everyday professional archi...</td>\n",
       "    </tr>\n",
       "    <tr>\n",
       "      <th>fffe31003200</th>\n",
       "      <td>Lucile Trexler</td>\n",
       "      <td>24</td>\n",
       "      <td>f</td>\n",
       "      <td>socially</td>\n",
       "      <td>never</td>\n",
       "      <td>65.0</td>\n",
       "      <td>medicine / health</td>\n",
       "      <td>likes dogs and likes cats</td>\n",
       "      <td>no</td>\n",
       "      <td>english (fluently), spanish (okay), french (po...</td>\n",
       "      <td>interested</td>\n",
       "      <td>average</td>\n",
       "      <td>3.0</td>\n",
       "      <td>no</td>\n",
       "      <td>so...there is much to say... for now, i'm a st...</td>\n",
       "      <td>student tentative degree molecular cell biolog...</td>\n",
       "    </tr>\n",
       "    <tr>\n",
       "      <th>fffe31003300</th>\n",
       "      <td>Earl Eells</td>\n",
       "      <td>29</td>\n",
       "      <td>m</td>\n",
       "      <td>socially</td>\n",
       "      <td>never</td>\n",
       "      <td>73.0</td>\n",
       "      <td>education / academia</td>\n",
       "      <td>likes dogs and dislikes cats</td>\n",
       "      <td>no</td>\n",
       "      <td>english</td>\n",
       "      <td>not interested</td>\n",
       "      <td>average</td>\n",
       "      <td>3.0</td>\n",
       "      <td>no</td>\n",
       "      <td>i moved to san francisco two years ago after l...</td>\n",
       "      <td>move san francisco year ago live east bay year...</td>\n",
       "    </tr>\n",
       "    <tr>\n",
       "      <th>fffe31003400</th>\n",
       "      <td>Claudine Shreve</td>\n",
       "      <td>33</td>\n",
       "      <td>f</td>\n",
       "      <td>socially</td>\n",
       "      <td>never</td>\n",
       "      <td>65.0</td>\n",
       "      <td>other</td>\n",
       "      <td>has dogs</td>\n",
       "      <td>no</td>\n",
       "      <td>english, spanish (fluently)</td>\n",
       "      <td>not interested</td>\n",
       "      <td>a little extra</td>\n",
       "      <td>4.0</td>\n",
       "      <td>no</td>\n",
       "      <td>i'm a mixed bag of nuts! i'm outgoing yet shy ...</td>\n",
       "      <td>mixed bag nut outgoing shy meet people grow sf...</td>\n",
       "    </tr>\n",
       "    <tr>\n",
       "      <th>fffe31003500</th>\n",
       "      <td>Myong Ellison</td>\n",
       "      <td>39</td>\n",
       "      <td>f</td>\n",
       "      <td>often</td>\n",
       "      <td>sometimes</td>\n",
       "      <td>65.0</td>\n",
       "      <td>medicine / health</td>\n",
       "      <td>likes dogs and has cats</td>\n",
       "      <td>no</td>\n",
       "      <td>english (fluently), spanish (fluently)</td>\n",
       "      <td>not interested</td>\n",
       "      <td>average</td>\n",
       "      <td>4.0</td>\n",
       "      <td>no</td>\n",
       "      <td>i'm easy-going, fun and and pretty straight fo...</td>\n",
       "      <td>easy go fun pretty straight forward new englan...</td>\n",
       "    </tr>\n",
       "  </tbody>\n",
       "</table>\n",
       "</div>"
      ],
      "text/plain": [
       "                     username  age sex      drinks      drugs  height  \\\n",
       "user_id                                                                 \n",
       "fffe31003000  Eric Goldberger   28   m  very often  sometimes    62.0   \n",
       "fffe31003200   Lucile Trexler   24   f    socially      never    65.0   \n",
       "fffe31003300       Earl Eells   29   m    socially      never    73.0   \n",
       "fffe31003400  Claudine Shreve   33   f    socially      never    65.0   \n",
       "fffe31003500    Myong Ellison   39   f       often  sometimes    65.0   \n",
       "\n",
       "                               job                             pets  \\\n",
       "user_id                                                               \n",
       "fffe31003000                 other  dislikes dogs and dislikes cats   \n",
       "fffe31003200     medicine / health        likes dogs and likes cats   \n",
       "fffe31003300  education / academia     likes dogs and dislikes cats   \n",
       "fffe31003400                 other                         has dogs   \n",
       "fffe31003500     medicine / health          likes dogs and has cats   \n",
       "\n",
       "                     smokes  \\\n",
       "user_id                       \n",
       "fffe31003000  when drinking   \n",
       "fffe31003200             no   \n",
       "fffe31003300             no   \n",
       "fffe31003400             no   \n",
       "fffe31003500             no   \n",
       "\n",
       "                                                       language  \\\n",
       "user_id                                                           \n",
       "fffe31003000    english, french, german, chinese, sign language   \n",
       "fffe31003200  english (fluently), spanish (okay), french (po...   \n",
       "fffe31003300                                            english   \n",
       "fffe31003400                        english, spanish (fluently)   \n",
       "fffe31003500             english (fluently), spanish (fluently)   \n",
       "\n",
       "               new_languages    body_profile  education_level dropped_out  \\\n",
       "user_id                                                                     \n",
       "fffe31003000  not interested         used up              4.0          no   \n",
       "fffe31003200      interested         average              3.0          no   \n",
       "fffe31003300  not interested         average              3.0          no   \n",
       "fffe31003400  not interested  a little extra              4.0          no   \n",
       "fffe31003500  not interested         average              4.0          no   \n",
       "\n",
       "                                                            bio  \\\n",
       "user_id                                                           \n",
       "fffe31003000  i work and i play. hard. all day. everyday. i ...   \n",
       "fffe31003200  so...there is much to say... for now, i'm a st...   \n",
       "fffe31003300  i moved to san francisco two years ago after l...   \n",
       "fffe31003400  i'm a mixed bag of nuts! i'm outgoing yet shy ...   \n",
       "fffe31003500  i'm easy-going, fun and and pretty straight fo...   \n",
       "\n",
       "                                                    cleaned_bio  \n",
       "user_id                                                          \n",
       "fffe31003000  work play hard day everyday professional archi...  \n",
       "fffe31003200  student tentative degree molecular cell biolog...  \n",
       "fffe31003300  move san francisco year ago live east bay year...  \n",
       "fffe31003400  mixed bag nut outgoing shy meet people grow sf...  \n",
       "fffe31003500  easy go fun pretty straight forward new englan...  "
      ]
     },
     "execution_count": 8,
     "metadata": {},
     "output_type": "execute_result"
    }
   ],
   "source": [
    "# set user id to be the index and drop user name\n",
    "\n",
    "tinder_data_reduced = tinder_data_reduced.set_index('user_id')\n",
    "\n",
    "tinder_data_reduced.head()"
   ]
  },
  {
   "cell_type": "code",
   "execution_count": 9,
   "id": "e1dfc427-96b1-42dc-9ba7-cd358f7a665f",
   "metadata": {},
   "outputs": [],
   "source": [
    "# drop the user name\n",
    "tinder_data_reduced.drop(['username'], axis=1, inplace=True)"
   ]
  },
  {
   "cell_type": "code",
   "execution_count": 10,
   "id": "6ef261e3-d73e-4239-9d55-04ea2350f30e",
   "metadata": {},
   "outputs": [
    {
     "data": {
      "text/plain": [
       "['sex',\n",
       " 'drinks',\n",
       " 'drugs',\n",
       " 'job',\n",
       " 'pets',\n",
       " 'smokes',\n",
       " 'language',\n",
       " 'new_languages',\n",
       " 'body_profile',\n",
       " 'dropped_out',\n",
       " 'bio',\n",
       " 'cleaned_bio']"
      ]
     },
     "execution_count": 10,
     "metadata": {},
     "output_type": "execute_result"
    }
   ],
   "source": [
    "list(tinder_data_reduced.select_dtypes('object').columns)"
   ]
  },
  {
   "cell_type": "code",
   "execution_count": 11,
   "id": "9f6fcd04-7395-4c7d-b948-7b16476ace2a",
   "metadata": {},
   "outputs": [
    {
     "data": {
      "text/plain": [
       "drinks\n",
       "socially       937\n",
       "rarely         139\n",
       "often          129\n",
       "not at all      96\n",
       "very often      11\n",
       "desperately      9\n",
       "Name: count, dtype: int64"
      ]
     },
     "execution_count": 11,
     "metadata": {},
     "output_type": "execute_result"
    }
   ],
   "source": [
    "# the categories of drinks\n",
    "\n",
    "tinder_data_reduced.drinks.value_counts()"
   ]
  },
  {
   "cell_type": "code",
   "execution_count": 12,
   "id": "43d9d873-41a2-4110-a509-449ed03d892a",
   "metadata": {},
   "outputs": [
    {
     "data": {
      "text/html": [
       "<div>\n",
       "<style scoped>\n",
       "    .dataframe tbody tr th:only-of-type {\n",
       "        vertical-align: middle;\n",
       "    }\n",
       "\n",
       "    .dataframe tbody tr th {\n",
       "        vertical-align: top;\n",
       "    }\n",
       "\n",
       "    .dataframe thead th {\n",
       "        text-align: right;\n",
       "    }\n",
       "</style>\n",
       "<table border=\"1\" class=\"dataframe\">\n",
       "  <thead>\n",
       "    <tr style=\"text-align: right;\">\n",
       "      <th></th>\n",
       "      <th>drinks_desperately</th>\n",
       "      <th>drinks_not at all</th>\n",
       "      <th>drinks_often</th>\n",
       "      <th>drinks_rarely</th>\n",
       "      <th>drinks_socially</th>\n",
       "      <th>drinks_very often</th>\n",
       "    </tr>\n",
       "    <tr>\n",
       "      <th>user_id</th>\n",
       "      <th></th>\n",
       "      <th></th>\n",
       "      <th></th>\n",
       "      <th></th>\n",
       "      <th></th>\n",
       "      <th></th>\n",
       "    </tr>\n",
       "  </thead>\n",
       "  <tbody>\n",
       "    <tr>\n",
       "      <th>fffe31003000</th>\n",
       "      <td>False</td>\n",
       "      <td>False</td>\n",
       "      <td>False</td>\n",
       "      <td>False</td>\n",
       "      <td>False</td>\n",
       "      <td>True</td>\n",
       "    </tr>\n",
       "    <tr>\n",
       "      <th>fffe31003200</th>\n",
       "      <td>False</td>\n",
       "      <td>False</td>\n",
       "      <td>False</td>\n",
       "      <td>False</td>\n",
       "      <td>True</td>\n",
       "      <td>False</td>\n",
       "    </tr>\n",
       "    <tr>\n",
       "      <th>fffe31003300</th>\n",
       "      <td>False</td>\n",
       "      <td>False</td>\n",
       "      <td>False</td>\n",
       "      <td>False</td>\n",
       "      <td>True</td>\n",
       "      <td>False</td>\n",
       "    </tr>\n",
       "    <tr>\n",
       "      <th>fffe31003400</th>\n",
       "      <td>False</td>\n",
       "      <td>False</td>\n",
       "      <td>False</td>\n",
       "      <td>False</td>\n",
       "      <td>True</td>\n",
       "      <td>False</td>\n",
       "    </tr>\n",
       "    <tr>\n",
       "      <th>fffe31003500</th>\n",
       "      <td>False</td>\n",
       "      <td>False</td>\n",
       "      <td>True</td>\n",
       "      <td>False</td>\n",
       "      <td>False</td>\n",
       "      <td>False</td>\n",
       "    </tr>\n",
       "    <tr>\n",
       "      <th>...</th>\n",
       "      <td>...</td>\n",
       "      <td>...</td>\n",
       "      <td>...</td>\n",
       "      <td>...</td>\n",
       "      <td>...</td>\n",
       "      <td>...</td>\n",
       "    </tr>\n",
       "    <tr>\n",
       "      <th>fffe3100390039003000</th>\n",
       "      <td>False</td>\n",
       "      <td>False</td>\n",
       "      <td>False</td>\n",
       "      <td>False</td>\n",
       "      <td>True</td>\n",
       "      <td>False</td>\n",
       "    </tr>\n",
       "    <tr>\n",
       "      <th>fffe3100390039003100</th>\n",
       "      <td>False</td>\n",
       "      <td>False</td>\n",
       "      <td>False</td>\n",
       "      <td>False</td>\n",
       "      <td>True</td>\n",
       "      <td>False</td>\n",
       "    </tr>\n",
       "    <tr>\n",
       "      <th>fffe3100390039003300</th>\n",
       "      <td>False</td>\n",
       "      <td>False</td>\n",
       "      <td>False</td>\n",
       "      <td>False</td>\n",
       "      <td>True</td>\n",
       "      <td>False</td>\n",
       "    </tr>\n",
       "    <tr>\n",
       "      <th>fffe3100390039003700</th>\n",
       "      <td>False</td>\n",
       "      <td>False</td>\n",
       "      <td>False</td>\n",
       "      <td>False</td>\n",
       "      <td>True</td>\n",
       "      <td>False</td>\n",
       "    </tr>\n",
       "    <tr>\n",
       "      <th>fffe3100390039003900</th>\n",
       "      <td>False</td>\n",
       "      <td>False</td>\n",
       "      <td>False</td>\n",
       "      <td>True</td>\n",
       "      <td>False</td>\n",
       "      <td>False</td>\n",
       "    </tr>\n",
       "  </tbody>\n",
       "</table>\n",
       "<p>1321 rows × 6 columns</p>\n",
       "</div>"
      ],
      "text/plain": [
       "                      drinks_desperately  drinks_not at all  drinks_often  \\\n",
       "user_id                                                                     \n",
       "fffe31003000                       False              False         False   \n",
       "fffe31003200                       False              False         False   \n",
       "fffe31003300                       False              False         False   \n",
       "fffe31003400                       False              False         False   \n",
       "fffe31003500                       False              False          True   \n",
       "...                                  ...                ...           ...   \n",
       "fffe3100390039003000               False              False         False   \n",
       "fffe3100390039003100               False              False         False   \n",
       "fffe3100390039003300               False              False         False   \n",
       "fffe3100390039003700               False              False         False   \n",
       "fffe3100390039003900               False              False         False   \n",
       "\n",
       "                      drinks_rarely  drinks_socially  drinks_very often  \n",
       "user_id                                                                  \n",
       "fffe31003000                  False            False               True  \n",
       "fffe31003200                  False             True              False  \n",
       "fffe31003300                  False             True              False  \n",
       "fffe31003400                  False             True              False  \n",
       "fffe31003500                  False            False              False  \n",
       "...                             ...              ...                ...  \n",
       "fffe3100390039003000          False             True              False  \n",
       "fffe3100390039003100          False             True              False  \n",
       "fffe3100390039003300          False             True              False  \n",
       "fffe3100390039003700          False             True              False  \n",
       "fffe3100390039003900           True            False              False  \n",
       "\n",
       "[1321 rows x 6 columns]"
      ]
     },
     "execution_count": 12,
     "metadata": {},
     "output_type": "execute_result"
    }
   ],
   "source": [
    "# we convert the categories into dummies and then join this to our original dataframe\n",
    "\n",
    "pd.get_dummies(tinder_data_reduced.drinks, prefix='drinks')\n"
   ]
  },
  {
   "cell_type": "code",
   "execution_count": 13,
   "id": "f7196664-a276-4044-935c-8f123bf393bd",
   "metadata": {},
   "outputs": [],
   "source": [
    "# to make life easier, we could use this definition to one hot encode columns\n",
    "\n",
    "def one_hot(df, categorical_cols):\n",
    "    \"\"\"\n",
    "    @param df pandas DataFrame\n",
    "    @param cols a list of columns to encode \n",
    "    @return a DataFrame with one-hot encoding\n",
    "    \"\"\"\n",
    "    \n",
    "    for c in categorical_cols:\n",
    "        dummies = pd.get_dummies(df[c], prefix=c)\n",
    "        df = pd.concat([df, dummies], axis=1)\n",
    "        df.drop(c, axis = 1, inplace = True)\n",
    "    \n",
    "    return df"
   ]
  },
  {
   "cell_type": "code",
   "execution_count": 14,
   "id": "e575e038-94d1-4146-a56a-8de5e12f5fd0",
   "metadata": {},
   "outputs": [],
   "source": [
    "tinder_data_encoded = one_hot(tinder_data_reduced, ['drinks'])"
   ]
  },
  {
   "cell_type": "code",
   "execution_count": 15,
   "id": "07b62daa-2f36-4cfe-9d81-c166e7aa413f",
   "metadata": {
    "scrolled": true
   },
   "outputs": [
    {
     "data": {
      "text/plain": [
       "drugs\n",
       "never        1048\n",
       "sometimes     263\n",
       "often          10\n",
       "Name: count, dtype: int64"
      ]
     },
     "execution_count": 15,
     "metadata": {},
     "output_type": "execute_result"
    }
   ],
   "source": [
    "# do the same for other columns with categories\n",
    "# for e.g.\n",
    "\n",
    "tinder_data_encoded.drugs.value_counts()"
   ]
  },
  {
   "cell_type": "code",
   "execution_count": 16,
   "id": "0e873a8f-2745-424f-9b31-ea5a00a79e01",
   "metadata": {},
   "outputs": [
    {
     "data": {
      "text/plain": [
       "job\n",
       "other                                0.142316\n",
       "student                              0.125662\n",
       "science / tech / engineering         0.099924\n",
       "sales / marketing / biz dev          0.085541\n",
       "artistic / musical / writer          0.080242\n",
       "computer / hardware / software       0.078728\n",
       "medicine / health                    0.065859\n",
       "education / academia                 0.059803\n",
       "banking / financial / real estate    0.044663\n",
       "entertainment / media                0.038607\n",
       "executive / management               0.034822\n",
       "law / legal services                 0.026495\n",
       "construction / craftsmanship         0.026495\n",
       "hospitality / travel                 0.024981\n",
       "political / government               0.015897\n",
       "clerical / administrative            0.014383\n",
       "transportation                       0.009841\n",
       "rather not say                       0.009841\n",
       "unemployed                           0.009084\n",
       "military                             0.004542\n",
       "retired                              0.002271\n",
       "Name: proportion, dtype: float64"
      ]
     },
     "execution_count": 16,
     "metadata": {},
     "output_type": "execute_result"
    }
   ],
   "source": [
    "tinder_data_encoded.job.value_counts(normalize=True)"
   ]
  },
  {
   "cell_type": "code",
   "execution_count": 17,
   "id": "2c3350f0-24dc-4c18-82c8-42d6b3ce16e6",
   "metadata": {},
   "outputs": [
    {
     "data": {
      "text/plain": [
       "smokes\n",
       "no                1051\n",
       "sometimes           92\n",
       "when drinking       73\n",
       "yes                 65\n",
       "trying to quit      40\n",
       "Name: count, dtype: int64"
      ]
     },
     "execution_count": 17,
     "metadata": {},
     "output_type": "execute_result"
    }
   ],
   "source": [
    "tinder_data_encoded.smokes.value_counts()"
   ]
  },
  {
   "cell_type": "code",
   "execution_count": 18,
   "id": "af8dc298-9927-4f8a-9c5f-15bc1a05ef55",
   "metadata": {},
   "outputs": [
    {
     "name": "stdout",
     "output_type": "stream",
     "text": [
      "(1321, 20)\n",
      "(1321, 59)\n"
     ]
    }
   ],
   "source": [
    "cols = ['drugs', 'job', 'smokes', 'body_profile', 'new_languages']\n",
    "# one hot encode drinks, drugs, job ...  using the one hot definition\n",
    "print(tinder_data_encoded.shape)\n",
    "tinder_data_encoded = one_hot(tinder_data_encoded, cols)\n",
    "print(tinder_data_encoded.shape)"
   ]
  },
  {
   "cell_type": "code",
   "execution_count": 19,
   "id": "a545ca26-08cb-44ad-a80a-51bf876dcb24",
   "metadata": {},
   "outputs": [
    {
     "data": {
      "text/plain": [
       "['sex', 'pets', 'language', 'dropped_out', 'bio', 'cleaned_bio']"
      ]
     },
     "execution_count": 19,
     "metadata": {},
     "output_type": "execute_result"
    }
   ],
   "source": [
    "list(tinder_data_encoded.select_dtypes('object').columns)"
   ]
  },
  {
   "cell_type": "code",
   "execution_count": 20,
   "id": "bc2c1c9b-c2a3-40fd-9366-4afeeb54e5c0",
   "metadata": {},
   "outputs": [
    {
     "data": {
      "text/plain": [
       "sex\n",
       "m    791\n",
       "f    530\n",
       "Name: count, dtype: int64"
      ]
     },
     "execution_count": 20,
     "metadata": {},
     "output_type": "execute_result"
    }
   ],
   "source": [
    "tinder_data_encoded['sex'].value_counts()"
   ]
  },
  {
   "cell_type": "code",
   "execution_count": 21,
   "id": "a22a6280-eaa2-42b5-9bdd-045d65130762",
   "metadata": {},
   "outputs": [],
   "source": [
    "# convert to boolean - 1 and 0\n",
    "replace_dict = {'f':0, 'm':1}\n",
    "\n",
    "\n",
    "tinder_data_encoded['sex'] = tinder_data_encoded['sex'].map(replace_dict)"
   ]
  },
  {
   "cell_type": "code",
   "execution_count": 22,
   "id": "0a404638-af85-4fac-ac93-d8bc93ac52be",
   "metadata": {},
   "outputs": [
    {
     "data": {
      "text/plain": [
       "sex\n",
       "1    791\n",
       "0    530\n",
       "Name: count, dtype: int64"
      ]
     },
     "execution_count": 22,
     "metadata": {},
     "output_type": "execute_result"
    }
   ],
   "source": [
    "tinder_data_encoded['sex'].value_counts()"
   ]
  },
  {
   "cell_type": "code",
   "execution_count": 23,
   "id": "c75d979f-d980-461b-a805-23f80bcd4b15",
   "metadata": {},
   "outputs": [
    {
     "data": {
      "text/plain": [
       "dropped_out\n",
       "no     1263\n",
       "yes      58\n",
       "Name: count, dtype: int64"
      ]
     },
     "execution_count": 23,
     "metadata": {},
     "output_type": "execute_result"
    }
   ],
   "source": [
    "# do the same for dropped out\n",
    "\n",
    "tinder_data_encoded.dropped_out.value_counts()"
   ]
  },
  {
   "cell_type": "code",
   "execution_count": 24,
   "id": "d764fdc1-7851-4aba-98fe-0705c4443241",
   "metadata": {},
   "outputs": [],
   "source": [
    "replace_dict = {'no':0, 'yes':1}\n",
    "\n",
    "\n",
    "tinder_data_encoded['dropped_out'] = tinder_data_encoded['dropped_out'].map(replace_dict)"
   ]
  },
  {
   "cell_type": "code",
   "execution_count": 25,
   "id": "b0b41ad0-5d01-41d4-a8b0-4630a3ec279a",
   "metadata": {
    "scrolled": true
   },
   "outputs": [
    {
     "data": {
      "text/plain": [
       "dropped_out\n",
       "0    1263\n",
       "1      58\n",
       "Name: count, dtype: int64"
      ]
     },
     "execution_count": 25,
     "metadata": {},
     "output_type": "execute_result"
    }
   ],
   "source": [
    "tinder_data_encoded.dropped_out.value_counts()"
   ]
  },
  {
   "cell_type": "code",
   "execution_count": 26,
   "id": "3c49d419-9db9-46bb-ae0e-e45067f6908c",
   "metadata": {},
   "outputs": [
    {
     "data": {
      "text/plain": [
       "pets\n",
       "likes dogs and likes cats          513\n",
       "likes dogs                         219\n",
       "likes dogs and has cats            125\n",
       "has dogs                           120\n",
       "has dogs and likes cats             93\n",
       "likes dogs and dislikes cats        92\n",
       "has dogs and has cats               40\n",
       "likes cats                          40\n",
       "has cats                            34\n",
       "has dogs and dislikes cats          20\n",
       "dislikes dogs and dislikes cats     11\n",
       "dislikes cats                        4\n",
       "dislikes dogs                        4\n",
       "dislikes dogs and likes cats         4\n",
       "dislikes dogs and has cats           2\n",
       "Name: count, dtype: int64"
      ]
     },
     "execution_count": 26,
     "metadata": {},
     "output_type": "execute_result"
    }
   ],
   "source": [
    "# how about pets?!\n",
    "# has too many categories, so avoid one hot encoding it\n",
    "\n",
    "tinder_data_encoded.pets.value_counts()"
   ]
  },
  {
   "cell_type": "code",
   "execution_count": 27,
   "id": "c6782699-8cdc-4621-a5f3-446dbb13ee02",
   "metadata": {},
   "outputs": [],
   "source": [
    "# create new features instead for e.g.\n",
    "# likes dog\n",
    "\n",
    "tinder_data_encoded['likes_dog'] = 0\n",
    "\n",
    "tinder_data_encoded.loc[tinder_data_reduced['pets'].str.contains('likes dogs'), 'likes_dog'] = 1"
   ]
  },
  {
   "cell_type": "code",
   "execution_count": 28,
   "id": "d246a33a-8495-4aa4-a59b-175f9bdad13c",
   "metadata": {},
   "outputs": [
    {
     "data": {
      "text/plain": [
       "likes_dog\n",
       "1    970\n",
       "0    351\n",
       "Name: count, dtype: int64"
      ]
     },
     "execution_count": 28,
     "metadata": {},
     "output_type": "execute_result"
    }
   ],
   "source": [
    "tinder_data_encoded['likes_dog'].value_counts()"
   ]
  },
  {
   "cell_type": "code",
   "execution_count": 29,
   "id": "6a35ca62-fd2a-4ba3-bc58-0199f33e89fc",
   "metadata": {},
   "outputs": [],
   "source": [
    "# likes cat\n",
    "\n",
    "tinder_data_encoded['likes_cats'] = 0\n",
    "\n",
    "tinder_data_encoded.loc[tinder_data_encoded['pets'].str.contains('likes cats'), 'likes_cats'] = 1"
   ]
  },
  {
   "cell_type": "code",
   "execution_count": 30,
   "id": "5113af55-cf7a-4d48-9f43-6f25eeb137df",
   "metadata": {},
   "outputs": [
    {
     "data": {
      "text/plain": [
       "likes_cats\n",
       "1    777\n",
       "0    544\n",
       "Name: count, dtype: int64"
      ]
     },
     "execution_count": 30,
     "metadata": {},
     "output_type": "execute_result"
    }
   ],
   "source": [
    "tinder_data_encoded['likes_cats'].value_counts()"
   ]
  },
  {
   "cell_type": "code",
   "execution_count": 31,
   "id": "49feada9-9279-40c1-9ece-691d8191fe07",
   "metadata": {},
   "outputs": [
    {
     "data": {
      "text/plain": [
       "620"
      ]
     },
     "execution_count": 31,
     "metadata": {},
     "output_type": "execute_result"
    }
   ],
   "source": [
    "# for reference - profiles that like cats and dogs\n",
    "\n",
    "tinder_data_encoded[(tinder_data_encoded['likes_dog'] == 1) & (tinder_data_encoded['likes_cats'] == 1)].shape[0]"
   ]
  },
  {
   "cell_type": "code",
   "execution_count": 32,
   "id": "70d5895c-057b-4ccd-979e-09728cf70ac9",
   "metadata": {},
   "outputs": [],
   "source": [
    "# we can drop the pets columns as we have converted this into\n",
    "\n",
    "tinder_data_encoded.drop(['pets'], axis=1, inplace=True)"
   ]
  },
  {
   "cell_type": "code",
   "execution_count": 33,
   "id": "f5013455-9ddd-4803-855a-18ef807be639",
   "metadata": {},
   "outputs": [
    {
     "data": {
      "text/plain": [
       "language\n",
       "english                                                                            348\n",
       "english (fluently)                                                                 177\n",
       "english (fluently), spanish (poorly)                                                61\n",
       "english (fluently), spanish (okay)                                                  53\n",
       "english (fluently), spanish (fluently)                                              38\n",
       "                                                                                  ... \n",
       "english (poorly), c++ (poorly)                                                       1\n",
       "english (fluently), italian (okay), spanish (okay)                                   1\n",
       "english, english (okay), japanese (fluently), chinese (fluently), french (okay)      1\n",
       "english, spanish (fluently), portuguese (okay), french (poorly)                      1\n",
       "english (fluently), spanish (poorly), chinese (okay)                                 1\n",
       "Name: count, Length: 419, dtype: int64"
      ]
     },
     "execution_count": 33,
     "metadata": {},
     "output_type": "execute_result"
    }
   ],
   "source": [
    "tinder_data_encoded.language.value_counts()"
   ]
  },
  {
   "cell_type": "code",
   "execution_count": 34,
   "id": "0b883cb5-b875-496a-b3a7-2080523d2a87",
   "metadata": {},
   "outputs": [
    {
     "data": {
      "text/html": [
       "<div>\n",
       "<style scoped>\n",
       "    .dataframe tbody tr th:only-of-type {\n",
       "        vertical-align: middle;\n",
       "    }\n",
       "\n",
       "    .dataframe tbody tr th {\n",
       "        vertical-align: top;\n",
       "    }\n",
       "\n",
       "    .dataframe thead th {\n",
       "        text-align: right;\n",
       "    }\n",
       "</style>\n",
       "<table border=\"1\" class=\"dataframe\">\n",
       "  <thead>\n",
       "    <tr style=\"text-align: right;\">\n",
       "      <th></th>\n",
       "      <th>age</th>\n",
       "      <th>sex</th>\n",
       "      <th>height</th>\n",
       "      <th>language</th>\n",
       "      <th>education_level</th>\n",
       "      <th>dropped_out</th>\n",
       "      <th>bio</th>\n",
       "      <th>cleaned_bio</th>\n",
       "      <th>drinks_desperately</th>\n",
       "      <th>drinks_not at all</th>\n",
       "      <th>...</th>\n",
       "      <th>body_profile_overweight</th>\n",
       "      <th>body_profile_rather not say</th>\n",
       "      <th>body_profile_skinny</th>\n",
       "      <th>body_profile_thin</th>\n",
       "      <th>body_profile_used up</th>\n",
       "      <th>new_languages_interested</th>\n",
       "      <th>new_languages_not interested</th>\n",
       "      <th>new_languages_somewhat interested</th>\n",
       "      <th>likes_dog</th>\n",
       "      <th>likes_cats</th>\n",
       "    </tr>\n",
       "    <tr>\n",
       "      <th>user_id</th>\n",
       "      <th></th>\n",
       "      <th></th>\n",
       "      <th></th>\n",
       "      <th></th>\n",
       "      <th></th>\n",
       "      <th></th>\n",
       "      <th></th>\n",
       "      <th></th>\n",
       "      <th></th>\n",
       "      <th></th>\n",
       "      <th></th>\n",
       "      <th></th>\n",
       "      <th></th>\n",
       "      <th></th>\n",
       "      <th></th>\n",
       "      <th></th>\n",
       "      <th></th>\n",
       "      <th></th>\n",
       "      <th></th>\n",
       "      <th></th>\n",
       "      <th></th>\n",
       "    </tr>\n",
       "  </thead>\n",
       "  <tbody>\n",
       "  </tbody>\n",
       "</table>\n",
       "<p>0 rows × 60 columns</p>\n",
       "</div>"
      ],
      "text/plain": [
       "Empty DataFrame\n",
       "Columns: [age, sex, height, language, education_level, dropped_out, bio, cleaned_bio, drinks_desperately, drinks_not at all, drinks_often, drinks_rarely, drinks_socially, drinks_very often, drugs_never, drugs_often, drugs_sometimes, job_artistic / musical / writer, job_banking / financial / real estate, job_clerical / administrative, job_computer / hardware / software, job_construction / craftsmanship, job_education / academia, job_entertainment / media, job_executive / management, job_hospitality / travel, job_law / legal services, job_medicine / health, job_military, job_other, job_political / government, job_rather not say, job_retired, job_sales / marketing / biz dev, job_science / tech / engineering, job_student, job_transportation, job_unemployed, smokes_no, smokes_sometimes, smokes_trying to quit, smokes_when drinking, smokes_yes, body_profile_a little extra, body_profile_athletic, body_profile_average, body_profile_curvy, body_profile_fit, body_profile_full figured, body_profile_jacked, body_profile_overweight, body_profile_rather not say, body_profile_skinny, body_profile_thin, body_profile_used up, new_languages_interested, new_languages_not interested, new_languages_somewhat interested, likes_dog, likes_cats]\n",
       "Index: []\n",
       "\n",
       "[0 rows x 60 columns]"
      ]
     },
     "execution_count": 34,
     "metadata": {},
     "output_type": "execute_result"
    }
   ],
   "source": [
    "# everyone can speak english, so this could be considered a redundant variable\n",
    "tinder_data_encoded[~tinder_data_encoded['language'].str.contains('english')]"
   ]
  },
  {
   "cell_type": "code",
   "execution_count": 35,
   "id": "fac48128-d898-439e-9990-9c23ad9d8915",
   "metadata": {},
   "outputs": [
    {
     "data": {
      "text/html": [
       "<div>\n",
       "<style scoped>\n",
       "    .dataframe tbody tr th:only-of-type {\n",
       "        vertical-align: middle;\n",
       "    }\n",
       "\n",
       "    .dataframe tbody tr th {\n",
       "        vertical-align: top;\n",
       "    }\n",
       "\n",
       "    .dataframe thead th {\n",
       "        text-align: right;\n",
       "    }\n",
       "</style>\n",
       "<table border=\"1\" class=\"dataframe\">\n",
       "  <thead>\n",
       "    <tr style=\"text-align: right;\">\n",
       "      <th></th>\n",
       "      <th>age</th>\n",
       "      <th>sex</th>\n",
       "      <th>height</th>\n",
       "      <th>language</th>\n",
       "      <th>education_level</th>\n",
       "      <th>dropped_out</th>\n",
       "      <th>bio</th>\n",
       "      <th>cleaned_bio</th>\n",
       "      <th>drinks_desperately</th>\n",
       "      <th>drinks_not at all</th>\n",
       "      <th>...</th>\n",
       "      <th>body_profile_overweight</th>\n",
       "      <th>body_profile_rather not say</th>\n",
       "      <th>body_profile_skinny</th>\n",
       "      <th>body_profile_thin</th>\n",
       "      <th>body_profile_used up</th>\n",
       "      <th>new_languages_interested</th>\n",
       "      <th>new_languages_not interested</th>\n",
       "      <th>new_languages_somewhat interested</th>\n",
       "      <th>likes_dog</th>\n",
       "      <th>likes_cats</th>\n",
       "    </tr>\n",
       "    <tr>\n",
       "      <th>user_id</th>\n",
       "      <th></th>\n",
       "      <th></th>\n",
       "      <th></th>\n",
       "      <th></th>\n",
       "      <th></th>\n",
       "      <th></th>\n",
       "      <th></th>\n",
       "      <th></th>\n",
       "      <th></th>\n",
       "      <th></th>\n",
       "      <th></th>\n",
       "      <th></th>\n",
       "      <th></th>\n",
       "      <th></th>\n",
       "      <th></th>\n",
       "      <th></th>\n",
       "      <th></th>\n",
       "      <th></th>\n",
       "      <th></th>\n",
       "      <th></th>\n",
       "      <th></th>\n",
       "    </tr>\n",
       "  </thead>\n",
       "  <tbody>\n",
       "    <tr>\n",
       "      <th>fffe31003200</th>\n",
       "      <td>24</td>\n",
       "      <td>0</td>\n",
       "      <td>65.0</td>\n",
       "      <td>english (fluently), spanish (okay), french (po...</td>\n",
       "      <td>3.0</td>\n",
       "      <td>0</td>\n",
       "      <td>so...there is much to say... for now, i'm a st...</td>\n",
       "      <td>student tentative degree molecular cell biolog...</td>\n",
       "      <td>False</td>\n",
       "      <td>False</td>\n",
       "      <td>...</td>\n",
       "      <td>False</td>\n",
       "      <td>False</td>\n",
       "      <td>False</td>\n",
       "      <td>False</td>\n",
       "      <td>False</td>\n",
       "      <td>True</td>\n",
       "      <td>False</td>\n",
       "      <td>False</td>\n",
       "      <td>1</td>\n",
       "      <td>1</td>\n",
       "    </tr>\n",
       "    <tr>\n",
       "      <th>fffe31003400</th>\n",
       "      <td>33</td>\n",
       "      <td>0</td>\n",
       "      <td>65.0</td>\n",
       "      <td>english, spanish (fluently)</td>\n",
       "      <td>4.0</td>\n",
       "      <td>0</td>\n",
       "      <td>i'm a mixed bag of nuts! i'm outgoing yet shy ...</td>\n",
       "      <td>mixed bag nut outgoing shy meet people grow sf...</td>\n",
       "      <td>False</td>\n",
       "      <td>False</td>\n",
       "      <td>...</td>\n",
       "      <td>False</td>\n",
       "      <td>False</td>\n",
       "      <td>False</td>\n",
       "      <td>False</td>\n",
       "      <td>False</td>\n",
       "      <td>False</td>\n",
       "      <td>True</td>\n",
       "      <td>False</td>\n",
       "      <td>0</td>\n",
       "      <td>0</td>\n",
       "    </tr>\n",
       "    <tr>\n",
       "      <th>fffe31003500</th>\n",
       "      <td>39</td>\n",
       "      <td>0</td>\n",
       "      <td>65.0</td>\n",
       "      <td>english (fluently), spanish (fluently)</td>\n",
       "      <td>4.0</td>\n",
       "      <td>0</td>\n",
       "      <td>i'm easy-going, fun and and pretty straight fo...</td>\n",
       "      <td>easy go fun pretty straight forward new englan...</td>\n",
       "      <td>False</td>\n",
       "      <td>False</td>\n",
       "      <td>...</td>\n",
       "      <td>False</td>\n",
       "      <td>False</td>\n",
       "      <td>False</td>\n",
       "      <td>False</td>\n",
       "      <td>False</td>\n",
       "      <td>False</td>\n",
       "      <td>True</td>\n",
       "      <td>False</td>\n",
       "      <td>1</td>\n",
       "      <td>0</td>\n",
       "    </tr>\n",
       "    <tr>\n",
       "      <th>fffe31003700</th>\n",
       "      <td>30</td>\n",
       "      <td>1</td>\n",
       "      <td>70.0</td>\n",
       "      <td>english, spanish (poorly)</td>\n",
       "      <td>3.0</td>\n",
       "      <td>0</td>\n",
       "      <td>joined this online dating thing per the advice...</td>\n",
       "      <td>join online date thing advice friend recently ...</td>\n",
       "      <td>False</td>\n",
       "      <td>False</td>\n",
       "      <td>...</td>\n",
       "      <td>False</td>\n",
       "      <td>False</td>\n",
       "      <td>False</td>\n",
       "      <td>False</td>\n",
       "      <td>False</td>\n",
       "      <td>True</td>\n",
       "      <td>False</td>\n",
       "      <td>False</td>\n",
       "      <td>1</td>\n",
       "      <td>1</td>\n",
       "    </tr>\n",
       "    <tr>\n",
       "      <th>fffe32003200</th>\n",
       "      <td>26</td>\n",
       "      <td>0</td>\n",
       "      <td>67.0</td>\n",
       "      <td>english (fluently), spanish (poorly)</td>\n",
       "      <td>3.0</td>\n",
       "      <td>0</td>\n",
       "      <td>not sure how to describe myself in a few parag...</td>\n",
       "      <td>sure describe paragraph risk sound like descri...</td>\n",
       "      <td>False</td>\n",
       "      <td>False</td>\n",
       "      <td>...</td>\n",
       "      <td>False</td>\n",
       "      <td>False</td>\n",
       "      <td>False</td>\n",
       "      <td>True</td>\n",
       "      <td>False</td>\n",
       "      <td>True</td>\n",
       "      <td>False</td>\n",
       "      <td>False</td>\n",
       "      <td>1</td>\n",
       "      <td>1</td>\n",
       "    </tr>\n",
       "  </tbody>\n",
       "</table>\n",
       "<p>5 rows × 60 columns</p>\n",
       "</div>"
      ],
      "text/plain": [
       "              age  sex  height  \\\n",
       "user_id                          \n",
       "fffe31003200   24    0    65.0   \n",
       "fffe31003400   33    0    65.0   \n",
       "fffe31003500   39    0    65.0   \n",
       "fffe31003700   30    1    70.0   \n",
       "fffe32003200   26    0    67.0   \n",
       "\n",
       "                                                       language  \\\n",
       "user_id                                                           \n",
       "fffe31003200  english (fluently), spanish (okay), french (po...   \n",
       "fffe31003400                        english, spanish (fluently)   \n",
       "fffe31003500             english (fluently), spanish (fluently)   \n",
       "fffe31003700                          english, spanish (poorly)   \n",
       "fffe32003200               english (fluently), spanish (poorly)   \n",
       "\n",
       "              education_level  dropped_out  \\\n",
       "user_id                                      \n",
       "fffe31003200              3.0            0   \n",
       "fffe31003400              4.0            0   \n",
       "fffe31003500              4.0            0   \n",
       "fffe31003700              3.0            0   \n",
       "fffe32003200              3.0            0   \n",
       "\n",
       "                                                            bio  \\\n",
       "user_id                                                           \n",
       "fffe31003200  so...there is much to say... for now, i'm a st...   \n",
       "fffe31003400  i'm a mixed bag of nuts! i'm outgoing yet shy ...   \n",
       "fffe31003500  i'm easy-going, fun and and pretty straight fo...   \n",
       "fffe31003700  joined this online dating thing per the advice...   \n",
       "fffe32003200  not sure how to describe myself in a few parag...   \n",
       "\n",
       "                                                    cleaned_bio  \\\n",
       "user_id                                                           \n",
       "fffe31003200  student tentative degree molecular cell biolog...   \n",
       "fffe31003400  mixed bag nut outgoing shy meet people grow sf...   \n",
       "fffe31003500  easy go fun pretty straight forward new englan...   \n",
       "fffe31003700  join online date thing advice friend recently ...   \n",
       "fffe32003200  sure describe paragraph risk sound like descri...   \n",
       "\n",
       "              drinks_desperately  drinks_not at all  ...  \\\n",
       "user_id                                              ...   \n",
       "fffe31003200               False              False  ...   \n",
       "fffe31003400               False              False  ...   \n",
       "fffe31003500               False              False  ...   \n",
       "fffe31003700               False              False  ...   \n",
       "fffe32003200               False              False  ...   \n",
       "\n",
       "              body_profile_overweight  body_profile_rather not say  \\\n",
       "user_id                                                              \n",
       "fffe31003200                    False                        False   \n",
       "fffe31003400                    False                        False   \n",
       "fffe31003500                    False                        False   \n",
       "fffe31003700                    False                        False   \n",
       "fffe32003200                    False                        False   \n",
       "\n",
       "              body_profile_skinny  body_profile_thin  body_profile_used up  \\\n",
       "user_id                                                                      \n",
       "fffe31003200                False              False                 False   \n",
       "fffe31003400                False              False                 False   \n",
       "fffe31003500                False              False                 False   \n",
       "fffe31003700                False              False                 False   \n",
       "fffe32003200                False               True                 False   \n",
       "\n",
       "              new_languages_interested  new_languages_not interested  \\\n",
       "user_id                                                                \n",
       "fffe31003200                      True                         False   \n",
       "fffe31003400                     False                          True   \n",
       "fffe31003500                     False                          True   \n",
       "fffe31003700                      True                         False   \n",
       "fffe32003200                      True                         False   \n",
       "\n",
       "              new_languages_somewhat interested  likes_dog  likes_cats  \n",
       "user_id                                                                 \n",
       "fffe31003200                              False          1           1  \n",
       "fffe31003400                              False          0           0  \n",
       "fffe31003500                              False          1           0  \n",
       "fffe31003700                              False          1           1  \n",
       "fffe32003200                              False          1           1  \n",
       "\n",
       "[5 rows x 60 columns]"
      ]
     },
     "execution_count": 35,
     "metadata": {},
     "output_type": "execute_result"
    }
   ],
   "source": [
    "# could consider another feature for if they speak spanish or not, but for another time\n",
    "\n",
    "tinder_data_encoded[tinder_data_encoded['language'].str.contains('spanish')].head()"
   ]
  },
  {
   "cell_type": "code",
   "execution_count": 36,
   "id": "704aa1fa-a4ab-4876-9eaf-9ec097a7893c",
   "metadata": {},
   "outputs": [],
   "source": [
    "# drop language\n",
    "\n",
    "tinder_data_encoded.drop(['language'], axis=1, inplace=True)"
   ]
  },
  {
   "cell_type": "code",
   "execution_count": 37,
   "id": "0cadfda1-981d-4a54-8a18-6d744350e2e1",
   "metadata": {},
   "outputs": [
    {
     "data": {
      "text/plain": [
       "bio\n",
       "i work and i play. hard. all day. everyday. i am a professional architect and i make enough to make it rain. hard. i love sex. hard. i love anal.                                                                                                                                                                                                                                                                                                                                                                                                                                                                                                                                                                                                                                                                                                                                                                                                                                                                                                                                                                                                                                                                                                                                                                                                                                                                                                                                                                                                                                                                                              1\n",
       "an artist and free-spirit with a passion for travel, culture, and food. i'm an ambitious, intelligent, and hard working woman who is looking for someone who is not intimidated by that. most people consider me outgoing and friendly, oh yeah and kind of a smart ass. if intrigued...email.                                                                                                                                                                                                                                                                                                                                                                                                                                                                                                                                                                                                                                                                                                                                                                                                                                                                                                                                                                                                                                                                                                                                                                                                                                                                                                                                                 1\n",
       "some small facts about me. i'm currently finishing up my undergraduate studies in washington dc. i'm 3/4 chinese and 1/4 british.                                                                                                                                                                                                                                                                                                                                                                                                                                                                                                                                                                                                                                                                                                                                                                                                                                                                                                                                                                                                                                                                                                                                                                                                                                                                                                                                                                                                                                                                                                              1\n",
       "designer-nerd-vixen.                                                                                                                                                                                                                                                                                                                                                                                                                                                                                                                                                                                                                                                                                                                                                                                                                                                                                                                                                                                                                                                                                                                                                                                                                                                                                                                                                                                                                                                                                                                                                                                                                           1\n",
       "development of new abilities and the advancement of existing ones is my strongest drive in life, which defines a very large part of who i am. my passions are numerous and through their natural ebb and flow of motivation i find myself almost constantly enthralled by some wonderful skill to pursue, some carefully planned object(s) to create, or endlessly enjoyable research to assist either cause.  because of this, finding fun exciting people to share things, do things, teach things, learn things, and enjoy things with is rather high on my priorities list.  as for some things i'm into:  i've done parkour for 5+ years, and would have to credit the discipline as being possibly the most important and enjoyable in my life. if you ever feel the interest, i'd be more than happy to give you a 10 minute lesson that could very well change the way you look at and interact with the world  beyond parkour, i like to explore the physical world in every way i possibly can. i rock climb (quite a bit), skimboard, surf, play paintball,rock climb, do partner acrobatics, bike, ride a unicycle (trials), climb trees, hike, backpack, ski, and dance like a fiend to drum&bass.  when i've satisfied my physical spirit or it's too dark out for the above activities i sew(a lot), juggle, do photography, model, play backgammon, tie knots, and dabble in endless underdeveloped skills required for creating the many different things i love to create. i also love playing magic and board games (ricochet robots and jungle speed are my two favorite games ever, small world is quite good as well)    1\n",
       "                                                                                                                                                                                                                                                                                                                                                                                                                                                                                                                                                                                                                                                                                                                                                                                                                                                                                                                                                                                                                                                                                                                                                                                                                                                                                                                                                                                                                                                                                                                                                                                                                                              ..\n",
       "this quote pretty much sums me up:  \"i like to eat, sleep, drink, and be in love. i like to work, read, learn, and understand life.\"- langston hughes                                                                                                                                                                                                                                                                                                                                                                                                                                                                                                                                                                                                                                                                                                                                                                                                                                                                                                                                                                                                                                                                                                                                                                                                                                                                                                                                                                                                                                                                                          1\n",
       "i think i live on the only ghetto block in the sunset. hilarity ensues.  i'm a people person. also, cynical as fuck.  i play music. create things. i'm creative. not one of those math types.  i'll run the intellectual gamut with you. just remember that it was only steven hawking who kept me from joining mensa.  i sure sound fun.  i like: -gummy candy -caffeine -nerds -technology -puns -trollin' -logic. -relaxation -sex -philosophy -business                                                                                                                                                                                                                                                                                                                                                                                                                                                                                                                                                                                                                                                                                                                                                                                                                                                                                                                                                                                                                                                                                                                                                                                    1\n",
       "i'm a longtime european in the us (german), love to travel and experience new things. i think traveling broadens the horizon and cultural awareness leads to personal growth. in the phrase work-life balance', my emphasis is on life'. maybe we can go somewhere together!?  i'm easy going but active, like to explore, take a trip out into nature, exercise or run in the neighborhood, try to find that hidden ethnic family-run gem of a restaurant or grab a glass of wine in the wine bar around the corner. i love lazy weekend mornings, especially when there's someone to spend them with, but just as often i bounce out of bed with more energy than i know what to do with.  music is a big passion and i always enjoy listening to some live performances in the area. i also play two instruments myself. i love to cook, especially when i have someone to cook for. or maybe even better, maybe we'll cook together...you can be the sous chef. :p  i have a healthy imagination and try to keep things interesting. i think that i have a good sense of humor. i'm an extremely loyal friend; very understanding and supportive to those that i care about. i would love to be able to lean on you a little bit, but i'll also always be there for you.  i can be someone to have a lot of fun with but i'm also very real. i think i have a strong value system and a good head on my shoulders and i'm looking for the same. the simple things and the relationships we form are what counts.                                                                                                                           1\n",
       "i'm a simple man with a simple plan: find a date!  i am generally laid back, i have somewhat eclectic tastes and my group of friends reflects that. we pride ourselves on being young professionals who are not afraid to enjoy classic moments of ridiculousness (and by ridiculous, i mean overwhelming awesome). there is not always a game plan when we hangout, but we always come away with great memories.  i love writing and music. i'm always down to hit up an open mic (and even sign up to hit the stage every once in a while). i love going to concerts or listening to free music in a park. i dabble in percussion (usually, i play at church) and have been teaching myself to play the bass guitar for a few years now... (getting better, i swear!) i'm not a huge partier, but i do like to have fun. i do regularly go to church, and am currently looking for a bible study to get involved in regularly.  i'm looking for someone that knows what she wants, and is not afraid to ask for it. i'm attracted to confidence and a sense humor. i would love to find a woman who shares my faith with me and enjoys growing in hers.                                                                                                                                                                                                                                                                                                                                                                                                                                                                                      1\n",
       "i've spent the last 10 years working in the outdoor industry, mainly devoting all my time to climbing. its been awesome, great people, cool places, fun times. recently i have been trying to branch back out into the sports i loved growing up and diversify my outdoor time again. snowboarding, biking, running, etc. i don't usually just sit around. i like working with my hands and building things, mainly small home projects to improve the place i live. current project is trying to make a big garden in the backyard, but its a work in progress so it will be awhile before we see if i have a green thumb or not. i volunteer with a high school youth program called youth & government and besides being fun the kids are a constant source of entertainment. i also love dogs, but travel to much to have one and although i eat healthy i could eat pizza for every meal if it needed to be done.                                                                                                                                                                                                                                                                                                                                                                                                                                                                                                                                                                                                                                                                                                                         1\n",
       "Name: count, Length: 1321, dtype: int64"
      ]
     },
     "execution_count": 37,
     "metadata": {},
     "output_type": "execute_result"
    }
   ],
   "source": [
    "tinder_data_encoded.bio.value_counts()"
   ]
  },
  {
   "cell_type": "code",
   "execution_count": 38,
   "id": "14a1e19b-3b9c-4ef9-882c-c30a786b668a",
   "metadata": {},
   "outputs": [
    {
     "data": {
      "text/plain": [
       "['bio', 'cleaned_bio']"
      ]
     },
     "execution_count": 38,
     "metadata": {},
     "output_type": "execute_result"
    }
   ],
   "source": [
    "list(tinder_data_encoded.select_dtypes('object').columns)"
   ]
  },
  {
   "cell_type": "code",
   "execution_count": 39,
   "id": "5155d847-74a6-490a-be2e-52792858f1ad",
   "metadata": {},
   "outputs": [],
   "source": [
    "# drop bio and work with work with cleaned bio\n",
    "tinder_data_encoded.drop(['bio'], axis=1, inplace=True)"
   ]
  },
  {
   "cell_type": "code",
   "execution_count": 40,
   "id": "748d7302-3566-4f5a-89d1-37ad6b7f34a0",
   "metadata": {},
   "outputs": [
    {
     "data": {
      "text/plain": [
       "(1321, 58)"
      ]
     },
     "execution_count": 40,
     "metadata": {},
     "output_type": "execute_result"
    }
   ],
   "source": [
    "tinder_data_encoded.shape\n",
    "\n",
    "# to convert cleaned bio into a vector, you will have to install some libraries"
   ]
  },
  {
   "cell_type": "code",
   "execution_count": null,
   "id": "ebf278ae-c7c2-446f-8f64-683ce28cc09f",
   "metadata": {},
   "outputs": [],
   "source": [
    "# TODO: EMBED THE TEXT"
   ]
  },
  {
   "cell_type": "code",
   "execution_count": 50,
   "id": "4702c88d-a957-4a62-8061-fb68e82539b4",
   "metadata": {},
   "outputs": [],
   "source": [
    "# for now drop bio - will come back to this next week\n",
    "\n",
    "tinder_data_encoded.drop(['cleaned_bio'], axis=1, inplace=True)"
   ]
  },
  {
   "cell_type": "code",
   "execution_count": 51,
   "id": "2c16da4c-5737-4974-9ecc-04b5b1de3a8b",
   "metadata": {},
   "outputs": [],
   "source": [
    "# save the prepared data\n",
    "tinder_data_encoded.reset_index().to_csv(\"../data/tinder_data_prepared.csv\", index=False)"
   ]
  },
  {
   "cell_type": "code",
   "execution_count": null,
   "id": "abba0d1e-242b-44fd-a6bd-1e22edf65c27",
   "metadata": {},
   "outputs": [],
   "source": []
  }
 ],
 "metadata": {
  "kernelspec": {
   "display_name": "Python 3 (ipykernel)",
   "language": "python",
   "name": "python3"
  },
  "language_info": {
   "codemirror_mode": {
    "name": "ipython",
    "version": 3
   },
   "file_extension": ".py",
   "mimetype": "text/x-python",
   "name": "python",
   "nbconvert_exporter": "python",
   "pygments_lexer": "ipython3",
   "version": "3.12.3"
  }
 },
 "nbformat": 4,
 "nbformat_minor": 5
}
