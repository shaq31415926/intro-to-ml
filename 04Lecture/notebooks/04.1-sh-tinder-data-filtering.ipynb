{
 "cells": [
  {
   "cell_type": "markdown",
   "id": "3c957492-a509-45c8-bc42-2918a356d82c",
   "metadata": {},
   "source": [
    "## Predict Tinder Matches\n",
    "\n",
    "We are going to make a recommender algorithm that recommends profiles to people based on their similar interests so we will aim to predict the profiles to the user such that the user finds it most interesting out of all and tries to connect with them\n",
    "\n",
    "Reference: https://www.geeksforgeeks.org/predict-tinder-matches-with-machine-learning/"
   ]
  },
  {
   "cell_type": "code",
   "execution_count": 1,
   "id": "7f93ebb7-8ae2-488f-abd5-d00804faf28b",
   "metadata": {},
   "outputs": [],
   "source": [
    "import pandas as pd\n",
    "import matplotlib.pyplot as plt\n",
    "import seaborn as sns"
   ]
  },
  {
   "cell_type": "code",
   "execution_count": 2,
   "id": "e9be3ed3-9407-4f7b-a67f-f35454642279",
   "metadata": {},
   "outputs": [],
   "source": [
    "tinder_data = pd.read_csv(\"../../03Lecture/data/tinder_data.csv\")"
   ]
  },
  {
   "cell_type": "code",
   "execution_count": 3,
   "id": "78788afb-5f48-4fe2-af37-974a7cce6c74",
   "metadata": {},
   "outputs": [
    {
     "data": {
      "text/plain": [
       "pandas.core.frame.DataFrame"
      ]
     },
     "execution_count": 3,
     "metadata": {},
     "output_type": "execute_result"
    }
   ],
   "source": [
    "type(tinder_data)"
   ]
  },
  {
   "cell_type": "code",
   "execution_count": 4,
   "id": "9c5e8a24-d72c-41cf-98c6-dd212bc44b3f",
   "metadata": {},
   "outputs": [
    {
     "data": {
      "text/html": [
       "<div>\n",
       "<style scoped>\n",
       "    .dataframe tbody tr th:only-of-type {\n",
       "        vertical-align: middle;\n",
       "    }\n",
       "\n",
       "    .dataframe tbody tr th {\n",
       "        vertical-align: top;\n",
       "    }\n",
       "\n",
       "    .dataframe thead th {\n",
       "        text-align: right;\n",
       "    }\n",
       "</style>\n",
       "<table border=\"1\" class=\"dataframe\">\n",
       "  <thead>\n",
       "    <tr style=\"text-align: right;\">\n",
       "      <th></th>\n",
       "      <th>user_id</th>\n",
       "      <th>username</th>\n",
       "      <th>age</th>\n",
       "      <th>status</th>\n",
       "      <th>sex</th>\n",
       "      <th>orientation</th>\n",
       "      <th>drinks</th>\n",
       "      <th>drugs</th>\n",
       "      <th>height</th>\n",
       "      <th>job</th>\n",
       "      <th>location</th>\n",
       "      <th>pets</th>\n",
       "      <th>smokes</th>\n",
       "      <th>language</th>\n",
       "      <th>new_languages</th>\n",
       "      <th>body_profile</th>\n",
       "      <th>education_level</th>\n",
       "      <th>dropped_out</th>\n",
       "      <th>bio</th>\n",
       "      <th>location_preference</th>\n",
       "    </tr>\n",
       "  </thead>\n",
       "  <tbody>\n",
       "    <tr>\n",
       "      <th>0</th>\n",
       "      <td>fffe3100</td>\n",
       "      <td>Edith Lopez</td>\n",
       "      <td>27</td>\n",
       "      <td>single</td>\n",
       "      <td>f</td>\n",
       "      <td>gay</td>\n",
       "      <td>socially</td>\n",
       "      <td>never</td>\n",
       "      <td>66.0</td>\n",
       "      <td>medicine / health</td>\n",
       "      <td>oakland, california</td>\n",
       "      <td>likes dogs and likes cats</td>\n",
       "      <td>no</td>\n",
       "      <td>english (fluently), spanish (poorly), sign lan...</td>\n",
       "      <td>interested</td>\n",
       "      <td>athletic</td>\n",
       "      <td>4.0</td>\n",
       "      <td>no</td>\n",
       "      <td>bottom line i love life! i work hard and i lov...</td>\n",
       "      <td>same state</td>\n",
       "    </tr>\n",
       "    <tr>\n",
       "      <th>1</th>\n",
       "      <td>fffe3200</td>\n",
       "      <td>Travis Young</td>\n",
       "      <td>26</td>\n",
       "      <td>single</td>\n",
       "      <td>m</td>\n",
       "      <td>gay</td>\n",
       "      <td>socially</td>\n",
       "      <td>never</td>\n",
       "      <td>68.0</td>\n",
       "      <td>other</td>\n",
       "      <td>pleasant hill, california</td>\n",
       "      <td>likes dogs</td>\n",
       "      <td>no</td>\n",
       "      <td>english (fluently), tagalog (okay), french (po...</td>\n",
       "      <td>interested</td>\n",
       "      <td>fit</td>\n",
       "      <td>3.0</td>\n",
       "      <td>no</td>\n",
       "      <td>i'm a straightforward, genuine, fun loving (i'...</td>\n",
       "      <td>anywhere</td>\n",
       "    </tr>\n",
       "    <tr>\n",
       "      <th>2</th>\n",
       "      <td>fffe3300</td>\n",
       "      <td>Agnes Smith</td>\n",
       "      <td>20</td>\n",
       "      <td>seeing someone</td>\n",
       "      <td>f</td>\n",
       "      <td>bisexual</td>\n",
       "      <td>socially</td>\n",
       "      <td>sometimes</td>\n",
       "      <td>69.0</td>\n",
       "      <td>other</td>\n",
       "      <td>oakland, california</td>\n",
       "      <td>has dogs and likes cats</td>\n",
       "      <td>sometimes</td>\n",
       "      <td>english (fluently), sign language (poorly), fr...</td>\n",
       "      <td>interested</td>\n",
       "      <td>fit</td>\n",
       "      <td>2.0</td>\n",
       "      <td>no</td>\n",
       "      <td>mmmmm yummy tacosss. yoga is where it's at. i ...</td>\n",
       "      <td>same city</td>\n",
       "    </tr>\n",
       "    <tr>\n",
       "      <th>3</th>\n",
       "      <td>fffe3400</td>\n",
       "      <td>Salvador Klaver</td>\n",
       "      <td>27</td>\n",
       "      <td>single</td>\n",
       "      <td>m</td>\n",
       "      <td>bisexual</td>\n",
       "      <td>socially</td>\n",
       "      <td>sometimes</td>\n",
       "      <td>68.0</td>\n",
       "      <td>computer / hardware / software</td>\n",
       "      <td>daly city, california</td>\n",
       "      <td>likes dogs and likes cats</td>\n",
       "      <td>no</td>\n",
       "      <td>english</td>\n",
       "      <td>not interested</td>\n",
       "      <td>average</td>\n",
       "      <td>3.0</td>\n",
       "      <td>no</td>\n",
       "      <td>i'm a stealth geek. that special mix of techni...</td>\n",
       "      <td>same city</td>\n",
       "    </tr>\n",
       "    <tr>\n",
       "      <th>4</th>\n",
       "      <td>fffe3500</td>\n",
       "      <td>Elana Sewell</td>\n",
       "      <td>22</td>\n",
       "      <td>single</td>\n",
       "      <td>f</td>\n",
       "      <td>bisexual</td>\n",
       "      <td>often</td>\n",
       "      <td>sometimes</td>\n",
       "      <td>68.0</td>\n",
       "      <td>other</td>\n",
       "      <td>oakland, california</td>\n",
       "      <td>likes dogs and likes cats</td>\n",
       "      <td>yes</td>\n",
       "      <td>english</td>\n",
       "      <td>not interested</td>\n",
       "      <td>average</td>\n",
       "      <td>2.0</td>\n",
       "      <td>yes</td>\n",
       "      <td>with the whisper of the wind i was weaved into...</td>\n",
       "      <td>same city</td>\n",
       "    </tr>\n",
       "  </tbody>\n",
       "</table>\n",
       "</div>"
      ],
      "text/plain": [
       "    user_id         username  age          status sex orientation    drinks  \\\n",
       "0  fffe3100      Edith Lopez   27          single   f         gay  socially   \n",
       "1  fffe3200     Travis Young   26          single   m         gay  socially   \n",
       "2  fffe3300      Agnes Smith   20  seeing someone   f    bisexual  socially   \n",
       "3  fffe3400  Salvador Klaver   27          single   m    bisexual  socially   \n",
       "4  fffe3500     Elana Sewell   22          single   f    bisexual     often   \n",
       "\n",
       "       drugs  height                             job  \\\n",
       "0      never    66.0               medicine / health   \n",
       "1      never    68.0                           other   \n",
       "2  sometimes    69.0                           other   \n",
       "3  sometimes    68.0  computer / hardware / software   \n",
       "4  sometimes    68.0                           other   \n",
       "\n",
       "                    location                       pets     smokes  \\\n",
       "0        oakland, california  likes dogs and likes cats         no   \n",
       "1  pleasant hill, california                 likes dogs         no   \n",
       "2        oakland, california    has dogs and likes cats  sometimes   \n",
       "3      daly city, california  likes dogs and likes cats         no   \n",
       "4        oakland, california  likes dogs and likes cats        yes   \n",
       "\n",
       "                                            language   new_languages  \\\n",
       "0  english (fluently), spanish (poorly), sign lan...      interested   \n",
       "1  english (fluently), tagalog (okay), french (po...      interested   \n",
       "2  english (fluently), sign language (poorly), fr...      interested   \n",
       "3                                            english  not interested   \n",
       "4                                            english  not interested   \n",
       "\n",
       "  body_profile  education_level dropped_out  \\\n",
       "0     athletic              4.0          no   \n",
       "1          fit              3.0          no   \n",
       "2          fit              2.0          no   \n",
       "3      average              3.0          no   \n",
       "4      average              2.0         yes   \n",
       "\n",
       "                                                 bio location_preference  \n",
       "0  bottom line i love life! i work hard and i lov...          same state  \n",
       "1  i'm a straightforward, genuine, fun loving (i'...            anywhere  \n",
       "2  mmmmm yummy tacosss. yoga is where it's at. i ...           same city  \n",
       "3  i'm a stealth geek. that special mix of techni...           same city  \n",
       "4  with the whisper of the wind i was weaved into...           same city  "
      ]
     },
     "execution_count": 4,
     "metadata": {},
     "output_type": "execute_result"
    }
   ],
   "source": [
    "tinder_data.head()"
   ]
  },
  {
   "cell_type": "code",
   "execution_count": 5,
   "id": "7a27a3a8-fdc7-4152-8906-9f101c2d9d06",
   "metadata": {},
   "outputs": [
    {
     "data": {
      "text/plain": [
       "(2001, 20)"
      ]
     },
     "execution_count": 5,
     "metadata": {},
     "output_type": "execute_result"
    }
   ],
   "source": [
    "tinder_data.shape"
   ]
  },
  {
   "cell_type": "code",
   "execution_count": 6,
   "id": "5686a19b-facf-43a2-8212-f41c8400b2d3",
   "metadata": {},
   "outputs": [
    {
     "name": "stdout",
     "output_type": "stream",
     "text": [
      "<class 'pandas.core.frame.DataFrame'>\n",
      "RangeIndex: 2001 entries, 0 to 2000\n",
      "Data columns (total 20 columns):\n",
      " #   Column               Non-Null Count  Dtype  \n",
      "---  ------               --------------  -----  \n",
      " 0   user_id              2001 non-null   object \n",
      " 1   username             2001 non-null   object \n",
      " 2   age                  2001 non-null   int64  \n",
      " 3   status               2001 non-null   object \n",
      " 4   sex                  2001 non-null   object \n",
      " 5   orientation          2001 non-null   object \n",
      " 6   drinks               2001 non-null   object \n",
      " 7   drugs                2001 non-null   object \n",
      " 8   height               2001 non-null   float64\n",
      " 9   job                  2001 non-null   object \n",
      " 10  location             2001 non-null   object \n",
      " 11  pets                 2001 non-null   object \n",
      " 12  smokes               2001 non-null   object \n",
      " 13  language             2001 non-null   object \n",
      " 14  new_languages        2001 non-null   object \n",
      " 15  body_profile         2001 non-null   object \n",
      " 16  education_level      2001 non-null   float64\n",
      " 17  dropped_out          2001 non-null   object \n",
      " 18  bio                  2001 non-null   object \n",
      " 19  location_preference  2001 non-null   object \n",
      "dtypes: float64(2), int64(1), object(17)\n",
      "memory usage: 312.8+ KB\n"
     ]
    }
   ],
   "source": [
    "tinder_data.info()"
   ]
  },
  {
   "cell_type": "code",
   "execution_count": 7,
   "id": "44c127de-51b0-4aeb-91d2-245719bd7a79",
   "metadata": {},
   "outputs": [],
   "source": [
    "# filtering the data based on conditions\n",
    "\n",
    "# Start by creating groups based on an age criteria and orientation\n",
    "\n",
    "tinder_data_reduced = tinder_data[tinder_data.orientation == \"straight\"]\n"
   ]
  },
  {
   "cell_type": "code",
   "execution_count": 8,
   "id": "06221280-a15c-410e-bb72-26a2cf5a6988",
   "metadata": {},
   "outputs": [
    {
     "name": "stdout",
     "output_type": "stream",
     "text": [
      "(2001, 20)\n",
      "(1736, 20)\n"
     ]
    }
   ],
   "source": [
    "print(tinder_data.shape)\n",
    "print(tinder_data_reduced.shape)"
   ]
  },
  {
   "cell_type": "code",
   "execution_count": 9,
   "id": "84bb1026-837c-450e-a380-c1c308c0d069",
   "metadata": {},
   "outputs": [],
   "source": [
    "# cap profiles who are over 40\n",
    "\n",
    "tinder_data_reduced = tinder_data_reduced[tinder_data_reduced.age <= 40]"
   ]
  },
  {
   "cell_type": "code",
   "execution_count": 10,
   "id": "8f83156d-3b0b-4d05-a473-c7c2bfd4b144",
   "metadata": {},
   "outputs": [],
   "source": [
    "# only consider profiles that are single and available\n",
    "tinder_data_reduced = tinder_data_reduced[tinder_data_reduced.status.isin(['single', 'available'])]"
   ]
  },
  {
   "cell_type": "code",
   "execution_count": 11,
   "id": "074fe6dc-0071-4c24-ac24-0d9eb4fe4cb6",
   "metadata": {},
   "outputs": [],
   "source": [
    "# drop the username and single column - since we will not be matching on username and we only have orientation straight\n",
    "tinder_data_reduced.drop(['status', 'orientation'], axis=1, inplace=True)"
   ]
  },
  {
   "cell_type": "code",
   "execution_count": 12,
   "id": "14bdf822-2171-4f63-bc2d-182ad6415544",
   "metadata": {},
   "outputs": [
    {
     "name": "stdout",
     "output_type": "stream",
     "text": [
      "(1321, 18)\n"
     ]
    }
   ],
   "source": [
    "print(tinder_data_reduced.shape)"
   ]
  },
  {
   "cell_type": "code",
   "execution_count": 13,
   "id": "ffe936b3-098e-41ae-a6da-3fc8b8fcca84",
   "metadata": {},
   "outputs": [
    {
     "data": {
      "text/plain": [
       "location\n",
       "san francisco, california    623\n",
       "oakland, california          154\n",
       "berkeley, california          93\n",
       "san mateo, california         41\n",
       "palo alto, california         32\n",
       "                            ... \n",
       "larkspur, california           1\n",
       "petaluma, california           1\n",
       "corte madera, california       1\n",
       "phoenix, arizona               1\n",
       "lagunitas, california          1\n",
       "Name: count, Length: 62, dtype: int64"
      ]
     },
     "execution_count": 13,
     "metadata": {},
     "output_type": "execute_result"
    }
   ],
   "source": [
    "# let's look at location\n",
    "\n",
    "tinder_data_reduced.location.value_counts()\n",
    "\n",
    "# let's assume everyone is from the same location so we will also drop this, and location preference"
   ]
  },
  {
   "cell_type": "code",
   "execution_count": 14,
   "id": "06446532-153f-479f-b0e1-92005aa38ee4",
   "metadata": {},
   "outputs": [],
   "source": [
    "tinder_data_reduced.drop(['location', 'location_preference'], axis=1, inplace=True)"
   ]
  },
  {
   "cell_type": "code",
   "execution_count": 15,
   "id": "a8613aab-716e-44cb-84d1-712ba770acbb",
   "metadata": {},
   "outputs": [
    {
     "data": {
      "text/plain": [
       "['user_id',\n",
       " 'username',\n",
       " 'sex',\n",
       " 'drinks',\n",
       " 'drugs',\n",
       " 'job',\n",
       " 'pets',\n",
       " 'smokes',\n",
       " 'language',\n",
       " 'new_languages',\n",
       " 'body_profile',\n",
       " 'dropped_out',\n",
       " 'bio']"
      ]
     },
     "execution_count": 15,
     "metadata": {},
     "output_type": "execute_result"
    }
   ],
   "source": [
    "# identify all the features that need encoding\n",
    "\n",
    "list(tinder_data_reduced.select_dtypes('object').columns)"
   ]
  },
  {
   "cell_type": "code",
   "execution_count": 16,
   "id": "0cadfda1-981d-4a54-8a18-6d744350e2e1",
   "metadata": {},
   "outputs": [
    {
     "data": {
      "text/plain": [
       "bio\n",
       "i work and i play. hard. all day. everyday. i am a professional architect and i make enough to make it rain. hard. i love sex. hard. i love anal.                                                                                                                                                                                                                                                                                                                                                                                                                                                                                                                                                                                                                                                                                                                                                                                                                                                                                                                                                                                                                                                                                                                                                                                                                                                                                                                                                                                                                                                                                              1\n",
       "an artist and free-spirit with a passion for travel, culture, and food. i'm an ambitious, intelligent, and hard working woman who is looking for someone who is not intimidated by that. most people consider me outgoing and friendly, oh yeah and kind of a smart ass. if intrigued...email.                                                                                                                                                                                                                                                                                                                                                                                                                                                                                                                                                                                                                                                                                                                                                                                                                                                                                                                                                                                                                                                                                                                                                                                                                                                                                                                                                 1\n",
       "some small facts about me. i'm currently finishing up my undergraduate studies in washington dc. i'm 3/4 chinese and 1/4 british.                                                                                                                                                                                                                                                                                                                                                                                                                                                                                                                                                                                                                                                                                                                                                                                                                                                                                                                                                                                                                                                                                                                                                                                                                                                                                                                                                                                                                                                                                                              1\n",
       "designer-nerd-vixen.                                                                                                                                                                                                                                                                                                                                                                                                                                                                                                                                                                                                                                                                                                                                                                                                                                                                                                                                                                                                                                                                                                                                                                                                                                                                                                                                                                                                                                                                                                                                                                                                                           1\n",
       "development of new abilities and the advancement of existing ones is my strongest drive in life, which defines a very large part of who i am. my passions are numerous and through their natural ebb and flow of motivation i find myself almost constantly enthralled by some wonderful skill to pursue, some carefully planned object(s) to create, or endlessly enjoyable research to assist either cause.  because of this, finding fun exciting people to share things, do things, teach things, learn things, and enjoy things with is rather high on my priorities list.  as for some things i'm into:  i've done parkour for 5+ years, and would have to credit the discipline as being possibly the most important and enjoyable in my life. if you ever feel the interest, i'd be more than happy to give you a 10 minute lesson that could very well change the way you look at and interact with the world  beyond parkour, i like to explore the physical world in every way i possibly can. i rock climb (quite a bit), skimboard, surf, play paintball,rock climb, do partner acrobatics, bike, ride a unicycle (trials), climb trees, hike, backpack, ski, and dance like a fiend to drum&bass.  when i've satisfied my physical spirit or it's too dark out for the above activities i sew(a lot), juggle, do photography, model, play backgammon, tie knots, and dabble in endless underdeveloped skills required for creating the many different things i love to create. i also love playing magic and board games (ricochet robots and jungle speed are my two favorite games ever, small world is quite good as well)    1\n",
       "                                                                                                                                                                                                                                                                                                                                                                                                                                                                                                                                                                                                                                                                                                                                                                                                                                                                                                                                                                                                                                                                                                                                                                                                                                                                                                                                                                                                                                                                                                                                                                                                                                              ..\n",
       "this quote pretty much sums me up:  \"i like to eat, sleep, drink, and be in love. i like to work, read, learn, and understand life.\"- langston hughes                                                                                                                                                                                                                                                                                                                                                                                                                                                                                                                                                                                                                                                                                                                                                                                                                                                                                                                                                                                                                                                                                                                                                                                                                                                                                                                                                                                                                                                                                          1\n",
       "i think i live on the only ghetto block in the sunset. hilarity ensues.  i'm a people person. also, cynical as fuck.  i play music. create things. i'm creative. not one of those math types.  i'll run the intellectual gamut with you. just remember that it was only steven hawking who kept me from joining mensa.  i sure sound fun.  i like: -gummy candy -caffeine -nerds -technology -puns -trollin' -logic. -relaxation -sex -philosophy -business                                                                                                                                                                                                                                                                                                                                                                                                                                                                                                                                                                                                                                                                                                                                                                                                                                                                                                                                                                                                                                                                                                                                                                                    1\n",
       "i'm a longtime european in the us (german), love to travel and experience new things. i think traveling broadens the horizon and cultural awareness leads to personal growth. in the phrase work-life balance', my emphasis is on life'. maybe we can go somewhere together!?  i'm easy going but active, like to explore, take a trip out into nature, exercise or run in the neighborhood, try to find that hidden ethnic family-run gem of a restaurant or grab a glass of wine in the wine bar around the corner. i love lazy weekend mornings, especially when there's someone to spend them with, but just as often i bounce out of bed with more energy than i know what to do with.  music is a big passion and i always enjoy listening to some live performances in the area. i also play two instruments myself. i love to cook, especially when i have someone to cook for. or maybe even better, maybe we'll cook together...you can be the sous chef. :p  i have a healthy imagination and try to keep things interesting. i think that i have a good sense of humor. i'm an extremely loyal friend; very understanding and supportive to those that i care about. i would love to be able to lean on you a little bit, but i'll also always be there for you.  i can be someone to have a lot of fun with but i'm also very real. i think i have a strong value system and a good head on my shoulders and i'm looking for the same. the simple things and the relationships we form are what counts.                                                                                                                           1\n",
       "i'm a simple man with a simple plan: find a date!  i am generally laid back, i have somewhat eclectic tastes and my group of friends reflects that. we pride ourselves on being young professionals who are not afraid to enjoy classic moments of ridiculousness (and by ridiculous, i mean overwhelming awesome). there is not always a game plan when we hangout, but we always come away with great memories.  i love writing and music. i'm always down to hit up an open mic (and even sign up to hit the stage every once in a while). i love going to concerts or listening to free music in a park. i dabble in percussion (usually, i play at church) and have been teaching myself to play the bass guitar for a few years now... (getting better, i swear!) i'm not a huge partier, but i do like to have fun. i do regularly go to church, and am currently looking for a bible study to get involved in regularly.  i'm looking for someone that knows what she wants, and is not afraid to ask for it. i'm attracted to confidence and a sense humor. i would love to find a woman who shares my faith with me and enjoys growing in hers.                                                                                                                                                                                                                                                                                                                                                                                                                                                                                      1\n",
       "i've spent the last 10 years working in the outdoor industry, mainly devoting all my time to climbing. its been awesome, great people, cool places, fun times. recently i have been trying to branch back out into the sports i loved growing up and diversify my outdoor time again. snowboarding, biking, running, etc. i don't usually just sit around. i like working with my hands and building things, mainly small home projects to improve the place i live. current project is trying to make a big garden in the backyard, but its a work in progress so it will be awhile before we see if i have a green thumb or not. i volunteer with a high school youth program called youth & government and besides being fun the kids are a constant source of entertainment. i also love dogs, but travel to much to have one and although i eat healthy i could eat pizza for every meal if it needed to be done.                                                                                                                                                                                                                                                                                                                                                                                                                                                                                                                                                                                                                                                                                                                         1\n",
       "Name: count, Length: 1321, dtype: int64"
      ]
     },
     "execution_count": 16,
     "metadata": {},
     "output_type": "execute_result"
    }
   ],
   "source": [
    "tinder_data_reduced.bio.value_counts()"
   ]
  },
  {
   "cell_type": "code",
   "execution_count": 17,
   "id": "f9fc8653-e375-400a-a364-8cfee1230fbe",
   "metadata": {},
   "outputs": [],
   "source": [
    "# clean the data\n",
    "\n",
    "import spacy\n",
    "import re\n",
    "\n",
    "\n",
    "def spacy_cleaner(original_text):\n",
    "    \"\"\"Cleans text data. Removes punctuations, whitespaces, numbers, stopwords from the text\n",
    "    and lemmatizes each token\"\"\"\n",
    "    \n",
    "    nlp = spacy.load(\"en_core_web_sm\")\n",
    "\n",
    "    final_tokens = []\n",
    "    parsed_text = nlp(original_text)\n",
    "\n",
    "    for token in parsed_text:\n",
    "        if token.is_punct or token.is_space or token.like_num or token.is_stop:\n",
    "            pass\n",
    "        else:\n",
    "            if token.lemma_ == '-PRON-':\n",
    "                final_tokens.append(str(token))\n",
    "            else:\n",
    "                sc_removed = re.sub(\"[^a-zA-Z]\", '', str(token.lemma_))  # code to keep pronouns as they are\n",
    "                if len(sc_removed) > 1:\n",
    "                    final_tokens.append(sc_removed)\n",
    "    joined = ' '.join(final_tokens)\n",
    "    preprocessed_text = re.sub(r'(.)\\1+', r'\\1\\1', joined)\n",
    "\n",
    "    return preprocessed_text"
   ]
  },
  {
   "cell_type": "code",
   "execution_count": 18,
   "id": "35adc367-985a-4d04-af31-51d4a0a48ee3",
   "metadata": {},
   "outputs": [],
   "source": [
    "tinder_data_reduced['cleaned_bio'] = tinder_data_reduced.bio.apply(lambda x: spacy_cleaner(x))\n",
    "# can takes some time to run"
   ]
  },
  {
   "cell_type": "code",
   "execution_count": 19,
   "id": "d587f458-bc0c-4fdb-b58f-08966431261e",
   "metadata": {},
   "outputs": [
    {
     "data": {
      "text/plain": [
       "'work play hard day everyday professional architect rain hard love sex hard love anal'"
      ]
     },
     "execution_count": 19,
     "metadata": {},
     "output_type": "execute_result"
    }
   ],
   "source": [
    "# after cleaning\n",
    "\n",
    "tinder_data_reduced['cleaned_bio'][9]"
   ]
  },
  {
   "cell_type": "code",
   "execution_count": 20,
   "id": "f6eb4adf-85b9-4141-b956-f995cda2cb58",
   "metadata": {},
   "outputs": [
    {
     "data": {
      "text/plain": [
       "'i work and i play. hard. all day. everyday. i am a professional architect and i make enough to make it rain. hard. i love sex. hard. i love anal.'"
      ]
     },
     "execution_count": 20,
     "metadata": {},
     "output_type": "execute_result"
    }
   ],
   "source": [
    "# before cleaning\n",
    "\n",
    "tinder_data_reduced['bio'][9]"
   ]
  },
  {
   "cell_type": "code",
   "execution_count": 21,
   "id": "0c62e943-71d7-4b66-ad36-0bcf03cfc7c7",
   "metadata": {},
   "outputs": [
    {
     "data": {
      "text/plain": [
       "(1321, 17)"
      ]
     },
     "execution_count": 21,
     "metadata": {},
     "output_type": "execute_result"
    }
   ],
   "source": [
    "tinder_data_reduced.shape"
   ]
  },
  {
   "cell_type": "code",
   "execution_count": 22,
   "id": "12bd84d8-2bde-4094-a029-f6e230404587",
   "metadata": {},
   "outputs": [],
   "source": [
    "tinder_data_reduced.to_csv(\"../data/tinder_data_filtered.csv\", index=False)"
   ]
  },
  {
   "cell_type": "code",
   "execution_count": null,
   "id": "36134f11-c216-4fbf-8356-8bd5e421cf81",
   "metadata": {},
   "outputs": [],
   "source": []
  }
 ],
 "metadata": {
  "kernelspec": {
   "display_name": "Python 3 (ipykernel)",
   "language": "python",
   "name": "python3"
  },
  "language_info": {
   "codemirror_mode": {
    "name": "ipython",
    "version": 3
   },
   "file_extension": ".py",
   "mimetype": "text/x-python",
   "name": "python",
   "nbconvert_exporter": "python",
   "pygments_lexer": "ipython3",
   "version": "3.12.3"
  }
 },
 "nbformat": 4,
 "nbformat_minor": 5
}
